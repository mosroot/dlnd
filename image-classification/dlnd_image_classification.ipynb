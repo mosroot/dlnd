{
 "cells": [
  {
   "cell_type": "markdown",
   "metadata": {
    "collapsed": true
   },
   "source": [
    "# 图像分类\n",
    "\n",
    "在此项目中，你将对 [CIFAR-10 数据集](https://www.cs.toronto.edu/~kriz/cifar.html) 中的图片进行分类。该数据集包含飞机、猫狗和其他物体。你需要预处理这些图片，然后用所有样本训练一个卷积神经网络。图片需要标准化（normalized），标签需要采用 one-hot 编码。你需要应用所学的知识构建卷积的、最大池化（max pooling）、丢弃（dropout）和完全连接（fully connected）的层。最后，你需要在样本图片上看到神经网络的预测结果。\n",
    "\n",
    "\n",
    "## 获取数据\n",
    "\n",
    "请运行以下单元，以下载 [CIFAR-10 数据集（Python版）](https://www.cs.toronto.edu/~kriz/cifar-10-python.tar.gz)。\n"
   ]
  },
  {
   "cell_type": "code",
   "execution_count": 1,
   "metadata": {
    "collapsed": false
   },
   "outputs": [
    {
     "name": "stderr",
     "output_type": "stream",
     "text": [
      "CIFAR-10 Dataset: 171MB [02:15, 1.26MB/s]                                                                              \n"
     ]
    },
    {
     "name": "stdout",
     "output_type": "stream",
     "text": [
      "All files found!\n"
     ]
    }
   ],
   "source": [
    "\"\"\"\n",
    "DON'T MODIFY ANYTHING IN THIS CELL THAT IS BELOW THIS LINE\n",
    "\"\"\"\n",
    "from urllib.request import urlretrieve\n",
    "from os.path import isfile, isdir\n",
    "from tqdm import tqdm\n",
    "import problem_unittests as tests\n",
    "import tarfile\n",
    "\n",
    "cifar10_dataset_folder_path = 'cifar-10-batches-py'\n",
    "\n",
    "# Use Floyd's cifar-10 dataset if present\n",
    "floyd_cifar10_location = '/input/cifar-10/python.tar.gz'\n",
    "if isfile(floyd_cifar10_location):\n",
    "    tar_gz_path = floyd_cifar10_location\n",
    "else:\n",
    "    tar_gz_path = 'cifar-10-python.tar.gz'\n",
    "\n",
    "class DLProgress(tqdm):\n",
    "    last_block = 0\n",
    "\n",
    "    def hook(self, block_num=1, block_size=1, total_size=None):\n",
    "        self.total = total_size\n",
    "        self.update((block_num - self.last_block) * block_size)\n",
    "        self.last_block = block_num\n",
    "\n",
    "if not isfile(tar_gz_path):\n",
    "    with DLProgress(unit='B', unit_scale=True, miniters=1, desc='CIFAR-10 Dataset') as pbar:\n",
    "        urlretrieve(\n",
    "            'https://www.cs.toronto.edu/~kriz/cifar-10-python.tar.gz',\n",
    "            tar_gz_path,\n",
    "            pbar.hook)\n",
    "\n",
    "if not isdir(cifar10_dataset_folder_path):\n",
    "    with tarfile.open(tar_gz_path) as tar:\n",
    "        tar.extractall()\n",
    "        tar.close()\n",
    "\n",
    "\n",
    "tests.test_folder_path(cifar10_dataset_folder_path)"
   ]
  },
  {
   "cell_type": "markdown",
   "metadata": {},
   "source": [
    "## 探索数据\n",
    "\n",
    "该数据集分成了几部分／批次（batches），以免你的机器在计算时内存不足。CIFAR-10 数据集包含 5 个部分，名称分别为 `data_batch_1`、`data_batch_2`，以此类推。每个部分都包含以下某个类别的标签和图片：\n",
    "\n",
    "* 飞机\n",
    "* 汽车\n",
    "* 鸟类\n",
    "* 猫\n",
    "* 鹿\n",
    "* 狗\n",
    "* 青蛙\n",
    "* 马\n",
    "* 船只\n",
    "* 卡车\n",
    "\n",
    "了解数据集也是对数据进行预测的必经步骤。你可以通过更改 `batch_id` 和 `sample_id` 探索下面的代码单元。`batch_id` 是数据集一个部分的 ID（1 到 5）。`sample_id` 是该部分中图片和标签对（label pair）的 ID。\n",
    "\n",
    "问问你自己：“可能的标签有哪些？”、“图片数据的值范围是多少？”、“标签是按顺序排列，还是随机排列的？”。思考类似的问题，有助于你预处理数据，并使预测结果更准确。\n"
   ]
  },
  {
   "cell_type": "code",
   "execution_count": 2,
   "metadata": {
    "collapsed": false
   },
   "outputs": [
    {
     "name": "stdout",
     "output_type": "stream",
     "text": [
      "\n",
      "Stats of batch 3:\n",
      "Samples: 10000\n",
      "Label Counts: {0: 994, 1: 1042, 2: 965, 3: 997, 4: 990, 5: 1029, 6: 978, 7: 1015, 8: 961, 9: 1029}\n",
      "First 20 Labels: [8, 5, 0, 6, 9, 2, 8, 3, 6, 2, 7, 4, 6, 9, 0, 0, 7, 3, 7, 2]\n",
      "\n",
      "Example of Image 999:\n",
      "Image - Min Value: 1 Max Value: 238\n",
      "Image - Shape: (32, 32, 3)\n",
      "Label - Label Id: 8 Name: ship\n"
     ]
    },
    {
     "data": {
      "image/png": "[encoded data removed]",
      "text/plain": [
       "<matplotlib.figure.Figure at 0x16885afb8d0>"
      ]
     },
     "metadata": {
      "image/png": {
       "height": 250,
       "width": 253
      }
     },
     "output_type": "display_data"
    }
   ],
   "source": [
    "%matplotlib inline\n",
    "%config InlineBackend.figure_format = 'retina'\n",
    "\n",
    "import helper\n",
    "import numpy as np\n",
    "\n",
    "# Explore the dataset\n",
    "batch_id = 3\n",
    "sample_id = 999\n",
    "helper.display_stats(cifar10_dataset_folder_path, batch_id, sample_id)"
   ]
  },
  {
   "cell_type": "markdown",
   "metadata": {},
   "source": [
    "## 实现预处理函数\n",
    "\n",
    "### 标准化\n",
    "\n",
    "在下面的单元中，实现 `normalize` 函数，传入图片数据 `x`，并返回标准化 Numpy 数组。值应该在 0 到 1 的范围内（含 0 和 1）。返回对象应该和 `x` 的形状一样。\n"
   ]
  },
  {
   "cell_type": "code",
   "execution_count": 3,
   "metadata": {
    "collapsed": false
   },
   "outputs": [
    {
     "name": "stdout",
     "output_type": "stream",
     "text": [
      "Tests Passed\n"
     ]
    }
   ],
   "source": [
    "def normalize(x):\n",
    "    \"\"\"\n",
    "    Normalize a list of sample image data in the range of 0 to 1\n",
    "    : x: List of image data.  The image shape is (32, 32, 3)\n",
    "    : return: Numpy array of normalize data\n",
    "    \"\"\"\n",
    "    # TODO: Implement Function\n",
    "    a = 0\n",
    "    b = 255\n",
    "    return (x-a)/(b-a)\n",
    "\n",
    "\n",
    "\"\"\"\n",
    "DON'T MODIFY ANYTHING IN THIS CELL THAT IS BELOW THIS LINE\n",
    "\"\"\"\n",
    "tests.test_normalize(normalize)"
   ]
  },
  {
   "cell_type": "markdown",
   "metadata": {},
   "source": [
    "### One-hot 编码\n",
    "\n",
    "和之前的代码单元一样，你将为预处理实现一个函数。这次，你将实现 `one_hot_encode` 函数。输入，也就是 `x`，是一个标签列表。实现该函数，以返回为 one_hot 编码的 Numpy 数组的标签列表。标签的可能值为 0 到 9。每次调用 `one_hot_encode` 时，对于每个值，one_hot 编码函数应该返回相同的编码。确保将编码映射保存到该函数外面。\n",
    "\n",
    "提示：不要重复发明轮子。\n"
   ]
  },
  {
   "cell_type": "code",
   "execution_count": 5,
   "metadata": {
    "collapsed": false
   },
   "outputs": [
    {
     "name": "stdout",
     "output_type": "stream",
     "text": [
      "Tests Passed\n"
     ]
    }
   ],
   "source": [
    "def one_hot_encode(x):\n",
    "    \"\"\"\n",
    "    One hot encode a list of sample labels. Return a one-hot encoded vector for each label.\n",
    "    : x: List of sample Labels\n",
    "    : return: Numpy array of one-hot encoded labels\n",
    "    \"\"\"\n",
    "    # TODO: Implement Function\n",
    "    y = np.zeros((len(x),10))\n",
    "    for i in range(len(x)):\n",
    "        y[i,x[i]] = 1\n",
    "    return y\n",
    "\n",
    "\n",
    "\"\"\"\n",
    "DON'T MODIFY ANYTHING IN THIS CELL THAT IS BELOW THIS LINE\n",
    "\"\"\"\n",
    "tests.test_one_hot_encode(one_hot_encode)"
   ]
  },
  {
   "cell_type": "markdown",
   "metadata": {},
   "source": [
    "### 随机化数据\n",
    "\n",
    "之前探索数据时，你已经了解到，样本的顺序是随机的。再随机化一次也不会有什么关系，但是对于这个数据集没有必要。\n"
   ]
  },
  {
   "cell_type": "markdown",
   "metadata": {},
   "source": [
    "## 预处理所有数据并保存\n",
    "\n",
    "运行下方的代码单元，将预处理所有 CIFAR-10 数据，并保存到文件中。下面的代码还使用了 10% 的训练数据，用来验证。\n"
   ]
  },
  {
   "cell_type": "code",
   "execution_count": 6,
   "metadata": {
    "collapsed": true
   },
   "outputs": [],
   "source": [
    "\"\"\"\n",
    "DON'T MODIFY ANYTHING IN THIS CELL\n",
    "\"\"\"\n",
    "# Preprocess Training, Validation, and Testing Data\n",
    "helper.preprocess_and_save_data(cifar10_dataset_folder_path, normalize, one_hot_encode)"
   ]
  },
  {
   "cell_type": "markdown",
   "metadata": {},
   "source": [
    "# 检查点\n",
    "\n",
    "这是你的第一个检查点。如果你什么时候决定再回到该记事本，或需要重新启动该记事本，你可以从这里开始。预处理的数据已保存到本地。\n"
   ]
  },
  {
   "cell_type": "code",
   "execution_count": 7,
   "metadata": {
    "collapsed": true
   },
   "outputs": [],
   "source": [
    "\"\"\"\n",
    "DON'T MODIFY ANYTHING IN THIS CELL\n",
    "\"\"\"\n",
    "import pickle\n",
    "import problem_unittests as tests\n",
    "import helper\n",
    "\n",
    "# Load the Preprocessed Validation data\n",
    "valid_features, valid_labels = pickle.load(open('preprocess_validation.p', mode='rb'))"
   ]
  },
  {
   "cell_type": "markdown",
   "metadata": {},
   "source": [
    "## 构建网络\n",
    "\n",
    "对于该神经网络，你需要将每层都构建为一个函数。你看到的大部分代码都位于函数外面。要更全面地测试你的代码，我们需要你将每层放入一个函数中。这样使我们能够提供更好的反馈，并使用我们的统一测试检测简单的错误，然后再提交项目。\n",
    "\n",
    ">**注意**：如果你觉得每周很难抽出足够的时间学习这门课程，我们为此项目提供了一个小捷径。对于接下来的几个问题，你可以使用 [TensorFlow Layers](https://www.tensorflow.org/api_docs/python/tf/layers) 或 [TensorFlow Layers (contrib)](https://www.tensorflow.org/api_guides/python/contrib.layers) 程序包中的类来构建每个层级，但是“卷积和最大池化层级”部分的层级除外。TF Layers 和 Keras 及 TFLearn 层级类似，因此很容易学会。\n",
    "\n",
    ">但是，如果你想充分利用这门课程，请尝试自己解决所有问题，不使用 TF Layers 程序包中的任何类。你依然可以使用其他程序包中的类，这些类和你在 TF Layers 中的类名称是一样的！例如，你可以使用 TF Neural Network 版本的 `conv2d` 类 [tf.nn.conv2d](https://www.tensorflow.org/api_docs/python/tf/nn/conv2d)，而不是 TF Layers 版本的 `conv2d` 类 [tf.layers.conv2d](https://www.tensorflow.org/api_docs/python/tf/layers/conv2d)。\n",
    "\n",
    "我们开始吧！\n",
    "\n",
    "\n",
    "### 输入\n",
    "\n",
    "神经网络需要读取图片数据、one-hot 编码标签和丢弃保留概率（dropout keep probability）。请实现以下函数：\n",
    "\n",
    "* 实现 `neural_net_image_input`\n",
    " * 返回 [TF Placeholder](https://www.tensorflow.org/api_docs/python/tf/placeholder)\n",
    " * 使用 `image_shape` 设置形状，部分大小设为 `None`\n",
    " * 使用 [TF Placeholder](https://www.tensorflow.org/api_docs/python/tf/placeholder) 中的 TensorFlow `name` 参数对 TensorFlow 占位符 \"x\" 命名\n",
    "* 实现 `neural_net_label_input`\n",
    " * 返回 [TF Placeholder](https://www.tensorflow.org/api_docs/python/tf/placeholder)\n",
    " * 使用 `n_classes` 设置形状，部分大小设为 `None`\n",
    " * 使用 [TF Placeholder](https://www.tensorflow.org/api_docs/python/tf/placeholder) 中的 TensorFlow `name` 参数对 TensorFlow 占位符 \"y\" 命名\n",
    "* 实现 `neural_net_keep_prob_input`\n",
    " * 返回 [TF Placeholder](https://www.tensorflow.org/api_docs/python/tf/placeholder)，用于丢弃保留概率\n",
    " * 使用 [TF Placeholder](https://www.tensorflow.org/api_docs/python/tf/placeholder) 中的 TensorFlow `name` 参数对 TensorFlow 占位符 \"keep_prob\" 命名\n",
    "\n",
    "这些名称将在项目结束时，用于加载保存的模型。\n",
    "\n",
    "注意：TensorFlow 中的 `None` 表示形状可以是动态大小。"
   ]
  },
  {
   "cell_type": "code",
   "execution_count": 8,
   "metadata": {
    "collapsed": false
   },
   "outputs": [
    {
     "name": "stdout",
     "output_type": "stream",
     "text": [
      "Image Input Tests Passed.\n",
      "Label Input Tests Passed.\n",
      "Keep Prob Tests Passed.\n"
     ]
    }
   ],
   "source": [
    "import tensorflow as tf\n",
    "\n",
    "def neural_net_image_input(image_shape):\n",
    "    \"\"\"\n",
    "    Return a Tensor for a batch of image input\n",
    "    : image_shape: Shape of the images\n",
    "    : return: Tensor for image input.\n",
    "    \"\"\"\n",
    "    # TODO: Implement Function\n",
    "    return tf.placeholder(tf.float32, [None] + list(image_shape), \"x\")\n",
    "\n",
    "\n",
    "def neural_net_label_input(n_classes):\n",
    "    \"\"\"\n",
    "    Return a Tensor for a batch of label input\n",
    "    : n_classes: Number of classes\n",
    "    : return: Tensor for label input.\n",
    "    \"\"\"\n",
    "    # TODO: Implement Function\n",
    "    return tf.placeholder(tf.float32, [None, n_classes], \"y\")\n",
    "\n",
    "\n",
    "def neural_net_keep_prob_input():\n",
    "    \"\"\"\n",
    "    Return a Tensor for keep probability\n",
    "    : return: Tensor for keep probability.\n",
    "    \"\"\"\n",
    "    # TODO: Implement Function\n",
    "    return tf.placeholder(tf.float32, None, \"keep_prob\")\n",
    "\n",
    "\n",
    "\"\"\"\n",
    "DON'T MODIFY ANYTHING IN THIS CELL THAT IS BELOW THIS LINE\n",
    "\"\"\"\n",
    "tf.reset_default_graph()\n",
    "tests.test_nn_image_inputs(neural_net_image_input)\n",
    "tests.test_nn_label_inputs(neural_net_label_input)\n",
    "tests.test_nn_keep_prob_inputs(neural_net_keep_prob_input)"
   ]
  },
  {
   "cell_type": "markdown",
   "metadata": {},
   "source": [
    "### 卷积和最大池化层\n",
    "\n",
    "卷积层级适合处理图片。对于此代码单元，你应该实现函数 `conv2d_maxpool` 以便应用卷积然后进行最大池化：\n",
    "\n",
    "* 使用 `conv_ksize`、`conv_num_outputs` 和 `x_tensor` 的形状创建权重（weight）和偏置（bias）。\n",
    "* 使用权重和 `conv_strides` 对 `x_tensor` 应用卷积。\n",
    " * 建议使用我们建议的间距（padding），当然也可以使用任何其他间距。\n",
    "* 添加偏置\n",
    "* 向卷积中添加非线性激活（nonlinear activation）\n",
    "* 使用 `pool_ksize` 和 `pool_strides` 应用最大池化\n",
    " * 建议使用我们建议的间距（padding），当然也可以使用任何其他间距。\n",
    "\n",
    "**注意**：对于**此层**，**请勿使用** [TensorFlow Layers](https://www.tensorflow.org/api_docs/python/tf/layers) 或 [TensorFlow Layers (contrib)](https://www.tensorflow.org/api_guides/python/contrib.layers)，但是仍然可以使用 TensorFlow 的 [Neural Network](https://www.tensorflow.org/api_docs/python/tf/nn) 包。对于所有**其他层**，你依然可以使用快捷方法。\n"
   ]
  },
  {
   "cell_type": "code",
   "execution_count": 9,
   "metadata": {
    "collapsed": false
   },
   "outputs": [
    {
     "name": "stdout",
     "output_type": "stream",
     "text": [
      "Tests Passed\n"
     ]
    }
   ],
   "source": [
    "def conv2d_maxpool(x_tensor, conv_num_outputs, conv_ksize, conv_strides, pool_ksize, pool_strides):\n",
    "    \"\"\"\n",
    "    Apply convolution then max pooling to x_tensor\n",
    "    :param x_tensor: TensorFlow Tensor\n",
    "    :param conv_num_outputs: Number of outputs for the convolutional layer\n",
    "    :param conv_ksize: kernal size 2-D Tuple for the convolutional layer\n",
    "    :param conv_strides: Stride 2-D Tuple for convolution\n",
    "    :param pool_ksize: kernal size 2-D Tuple for pool\n",
    "    :param pool_strides: Stride 2-D Tuple for pool\n",
    "    : return: A tensor that represents convolution and max pooling of x_tensor\n",
    "    \"\"\"\n",
    "    # TODO: Implement Function\n",
    "    dimension = x_tensor.get_shape().as_list()\n",
    "    shape = list(conv_ksize + (dimension[-1], )+(conv_num_outputs, ))\n",
    "    \n",
    "    filter_weights = tf.Variable(tf.truncated_normal(shape, 0, 0.1))\n",
    "    filter_bias = tf.Variable(tf.zeros(conv_num_outputs))\n",
    "    padding = 'SAME'\n",
    "    \n",
    "    conv_layer = tf.nn.conv2d(x_tensor, filter_weights, list((1, )+conv_strides+(1, )), padding)\n",
    "    conv_layer = tf.nn.bias_add(conv_layer, filter_bias)\n",
    "    conv_layer = tf.nn.relu(conv_layer)\n",
    "    conv_layer = tf.nn.max_pool(conv_layer, ksize = [1]+list(pool_ksize)+[1], strides=[1]+list(pool_ksize)+[1], padding='SAME')\n",
    "    \n",
    "    \n",
    "    return conv_layer\n",
    "\n",
    "\n",
    "\"\"\"\n",
    "DON'T MODIFY ANYTHING IN THIS CELL THAT IS BELOW THIS LINE\n",
    "\"\"\"\n",
    "tests.test_con_pool(conv2d_maxpool)"
   ]
  },
  {
   "cell_type": "markdown",
   "metadata": {},
   "source": [
    "### 扁平化层\n",
    "\n",
    "实现 `flatten` 函数，将 `x_tensor` 的维度从四维张量（4-D tensor）变成二维张量。输出应该是形状（*部分大小（Batch Size）*，*扁平化图片大小（Flattened Image Size）*）。快捷方法：对于此层，你可以使用 [TensorFlow Layers](https://www.tensorflow.org/api_docs/python/tf/layers) 或 [TensorFlow Layers (contrib)](https://www.tensorflow.org/api_guides/python/contrib.layers) 包中的类。如果你想要更大挑战，可以仅使用其他 TensorFlow 程序包。\n"
   ]
  },
  {
   "cell_type": "code",
   "execution_count": 12,
   "metadata": {
    "collapsed": false
   },
   "outputs": [
    {
     "name": "stdout",
     "output_type": "stream",
     "text": [
      "Tests Passed\n"
     ]
    }
   ],
   "source": [
    "from numpy import prod\n",
    "def flatten(x_tensor):\n",
    "    \"\"\"\n",
    "    Flatten x_tensor to (Batch Size, Flattened Image Size)\n",
    "    : x_tensor: A tensor of size (Batch Size, ...), where ... are the image dimensions.\n",
    "    : return: A tensor of size (Batch Size, Flattened Image Size).\n",
    "    \"\"\"\n",
    "    # TODO: Implement Function\n",
    "    dimension = x_tensor.get_shape().as_list()\n",
    "    return tf.reshape(x_tensor, [-1, prod(dimension [1: ] )])\n",
    "\n",
    "\n",
    "\"\"\"\n",
    "DON'T MODIFY ANYTHING IN THIS CELL THAT IS BELOW THIS LINE\n",
    "\"\"\"\n",
    "tests.test_flatten(flatten)"
   ]
  },
  {
   "cell_type": "markdown",
   "metadata": {},
   "source": [
    "### 完全连接的层\n",
    "\n",
    "实现 `fully_conn` 函数，以向 `x_tensor` 应用完全连接的层级，形状为（*部分大小（Batch Size）*，*num_outputs*）。快捷方法：对于此层，你可以使用 [TensorFlow Layers](https://www.tensorflow.org/api_docs/python/tf/layers) 或 [TensorFlow Layers (contrib)](https://www.tensorflow.org/api_guides/python/contrib.layers) 包中的类。如果你想要更大挑战，可以仅使用其他 TensorFlow 程序包。"
   ]
  },
  {
   "cell_type": "code",
   "execution_count": 29,
   "metadata": {
    "collapsed": false
   },
   "outputs": [
    {
     "name": "stdout",
     "output_type": "stream",
     "text": [
      "Tests Passed\n"
     ]
    }
   ],
   "source": [
    "def fully_conn(x_tensor, num_outputs):\n",
    "    \"\"\"\n",
    "    Apply a fully connected layer to x_tensor using weight and bias\n",
    "    : x_tensor: A 2-D tensor where the first dimension is batch size.\n",
    "    : num_outputs: The number of output that the new tensor should be.\n",
    "    : return: A 2-D tensor where the second dimension is num_outputs.\n",
    "    \"\"\"\n",
    "    # TODO: Implement Function\n",
    "    dimension = x_tensor.get_shape().as_list()\n",
    "    shape = list ((dimension[-1], )+(num_outputs, ) )\n",
    "\n",
    "    weight = tf.Variable(tf.truncated_normal (shape, 0, 0.1))\n",
    "    bias = tf.Variable(tf.zeros(num_outputs))\n",
    "\n",
    "    return tf.nn.relu(tf.add(tf.matmul(x_tensor,weight), bias))\n",
    "\n",
    "\n",
    "\"\"\"\n",
    "DON'T MODIFY ANYTHING IN THIS CELL THAT IS BELOW THIS LINE\n",
    "\"\"\"\n",
    "tests.test_fully_conn(fully_conn)"
   ]
  },
  {
   "cell_type": "markdown",
   "metadata": {},
   "source": [
    "### 输出层\n",
    "\n",
    "实现 `output` 函数，向 x_tensor 应用完全连接的层级，形状为（*部分大小（Batch Size）*，*num_outputs*）。快捷方法：对于此层，你可以使用 [TensorFlow Layers](https://www.tensorflow.org/api_docs/python/tf/layers) 或 [TensorFlow Layers (contrib)](https://www.tensorflow.org/api_guides/python/contrib.layers) 包中的类。如果你想要更大挑战，可以仅使用其他 TensorFlow 程序包。\n",
    "\n",
    "**注意**：该层级不应应用 Activation、softmax 或交叉熵（cross entropy）。"
   ]
  },
  {
   "cell_type": "code",
   "execution_count": 30,
   "metadata": {
    "collapsed": false
   },
   "outputs": [
    {
     "name": "stdout",
     "output_type": "stream",
     "text": [
      "Tests Passed\n"
     ]
    }
   ],
   "source": [
    "def output(x_tensor, num_outputs):\n",
    "    \"\"\"\n",
    "    Apply a output layer to x_tensor using weight and bias\n",
    "    : x_tensor: A 2-D tensor where the first dimension is batch size.\n",
    "    : num_outputs: The number of output that the new tensor should be.\n",
    "    : return: A 2-D tensor where the second dimension is num_outputs.\n",
    "    \"\"\"\n",
    "    # TODO: Implement Function\n",
    "    dimension = x_tensor.get_shape().as_list()\n",
    "    shape = list((dimension[-1], ) + (num_outputs, ))\n",
    "\n",
    "    weight = tf.Variable(tf.truncated_normal (shape, 0, 0.1))\n",
    "    bias = tf.Variable(tf.zeros(num_outputs))\n",
    "    \n",
    "    return tf.add(tf.matmul(x_tensor,weight), bias)\n",
    "\n",
    "\n",
    "\"\"\"\n",
    "DON'T MODIFY ANYTHING IN THIS CELL THAT IS BELOW THIS LINE\n",
    "\"\"\"\n",
    "tests.test_output(output)"
   ]
  },
  {
   "cell_type": "markdown",
   "metadata": {},
   "source": [
    "### 创建卷积模型\n",
    "\n",
    "实现函数 `conv_net`， 创建卷积神经网络模型。该函数传入一批图片 `x`，并输出对数（logits）。使用你在上方创建的层创建此模型：\n",
    "\n",
    "* 应用 1、2 或 3 个卷积和最大池化层（Convolution and Max Pool layers）\n",
    "* 应用一个扁平层（Flatten Layer）\n",
    "* 应用 1、2 或 3 个完全连接层（Fully Connected Layers）\n",
    "* 应用一个输出层（Output Layer）\n",
    "* 返回输出\n",
    "* 使用 `keep_prob` 向模型中的一个或多个层应用 [TensorFlow 的 Dropout](https://www.tensorflow.org/api_docs/python/tf/nn/dropout)"
   ]
  },
  {
   "cell_type": "code",
   "execution_count": 32,
   "metadata": {
    "collapsed": false
   },
   "outputs": [
    {
     "name": "stdout",
     "output_type": "stream",
     "text": [
      "Neural Network Built!\n"
     ]
    }
   ],
   "source": [
    "def conv_net(x, keep_prob):\n",
    "    \"\"\"\n",
    "    Create a convolutional neural network model\n",
    "    : x: Placeholder tensor that holds image data.\n",
    "    : keep_prob: Placeholder tensor that hold dropout keep probability.\n",
    "    : return: Tensor that represents logits\n",
    "    \"\"\"\n",
    "    # TODO: Apply 1, 2, or 3 Convolution and Max Pool layers\n",
    "    #    Play around with different number of outputs, kernel size and stride\n",
    "    # Function Definition from Above:\n",
    "    #    conv2d_maxpool(x_tensor, conv_num_outputs, conv_ksize, conv_strides, pool_ksize, pool_strides)\n",
    "    cnn = conv2d_maxpool(\n",
    "    x, conv_num_outputs = 18,\n",
    "        conv_ksize = (6,6), conv_strides = (1,1),\n",
    "        pool_ksize = (2,2), pool_strides = (1,1)\n",
    "    )\n",
    "\n",
    "    cnn = tf.nn.dropout (cnn, keep_prob)\n",
    "\n",
    "    # TODO: Apply a Flatten Layer\n",
    "    # Function Definition from Above:\n",
    "    #   flatten(x_tensor)\n",
    "    cnn = flatten(cnn)\n",
    "    \n",
    "    # TODO: Apply 1, 2, or 3 Fully Connected Layers\n",
    "    #    Play around with different number of outputs\n",
    "    # Function Definition from Above:\n",
    "    #   fully_conn(x_tensor, num_outputs)\n",
    "    cnn  = fully_conn(cnn, 333)\n",
    "    \n",
    "    cnn = tf.nn.dropout(cnn, keep_prob)\n",
    "\n",
    "    # TODO: Apply an Output Layer\n",
    "    #    Set this to the number of classes\n",
    "    # Function Definition from Above:\n",
    "    #   output(x_tensor, num_outputs)\n",
    "    cnn = output(cnn, 10)\n",
    "    # TODO: return output\n",
    "    return cnn\n",
    "\n",
    "\n",
    "\"\"\"\n",
    "DON'T MODIFY ANYTHING IN THIS CELL THAT IS BELOW THIS LINE\n",
    "\"\"\"\n",
    "\n",
    "##############################\n",
    "## Build the Neural Network ##\n",
    "##############################\n",
    "\n",
    "# Remove previous weights, bias, inputs, etc..\n",
    "tf.reset_default_graph()\n",
    "\n",
    "# Inputs\n",
    "x = neural_net_image_input((32, 32, 3))\n",
    "y = neural_net_label_input(10)\n",
    "keep_prob = neural_net_keep_prob_input()\n",
    "\n",
    "# Model\n",
    "logits = conv_net(x, keep_prob)\n",
    "\n",
    "# Name logits Tensor, so that is can be loaded from disk after training\n",
    "logits = tf.identity(logits, name='logits')\n",
    "\n",
    "# Loss and Optimizer\n",
    "cost = tf.reduce_mean(tf.nn.softmax_cross_entropy_with_logits(logits=logits, labels=y))\n",
    "optimizer = tf.train.AdamOptimizer().minimize(cost)\n",
    "\n",
    "# Accuracy\n",
    "correct_pred = tf.equal(tf.argmax(logits, 1), tf.argmax(y, 1))\n",
    "accuracy = tf.reduce_mean(tf.cast(correct_pred, tf.float32), name='accuracy')\n",
    "\n",
    "tests.test_conv_net(conv_net)"
   ]
  },
  {
   "cell_type": "markdown",
   "metadata": {},
   "source": [
    "## 训练神经网络\n",
    "\n",
    "### 单次优化\n",
    "\n",
    "实现函数 `train_neural_network` 以进行单次优化（single optimization）。该优化应该使用 `optimizer` 优化 `session`，其中 `feed_dict` 具有以下参数：\n",
    "\n",
    "* `x` 表示图片输入\n",
    "* `y` 表示标签\n",
    "* `keep_prob` 表示丢弃的保留率\n",
    "\n",
    "每个部分都会调用该函数，所以 `tf.global_variables_initializer()` 已经被调用。\n",
    "\n",
    "注意：不需要返回任何内容。该函数只是用来优化神经网络。\n"
   ]
  },
  {
   "cell_type": "code",
   "execution_count": 33,
   "metadata": {
    "collapsed": false
   },
   "outputs": [
    {
     "name": "stdout",
     "output_type": "stream",
     "text": [
      "Tests Passed\n"
     ]
    }
   ],
   "source": [
    "def train_neural_network(session, optimizer, keep_probability, feature_batch, label_batch):\n",
    "    \"\"\"\n",
    "    Optimize the session on a batch of images and labels\n",
    "    : session: Current TensorFlow session\n",
    "    : optimizer: TensorFlow optimizer function\n",
    "    : keep_probability: keep probability\n",
    "    : feature_batch: Batch of Numpy image data\n",
    "    : label_batch: Batch of Numpy label data\n",
    "    \"\"\"\n",
    "    # TODO: Implement Function\n",
    "    session.run (\n",
    "    optimizer, feed_dict = {\n",
    "        x:feature_batch,\n",
    "        y:label_batch,\n",
    "        keep_prob:keep_probability\n",
    "        \n",
    "    }\n",
    "    \n",
    "    )\n",
    "\n",
    "\n",
    "\"\"\"\n",
    "DON'T MODIFY ANYTHING IN THIS CELL THAT IS BELOW THIS LINE\n",
    "\"\"\"\n",
    "tests.test_train_nn(train_neural_network)"
   ]
  },
  {
   "cell_type": "markdown",
   "metadata": {},
   "source": [
    "### 显示数据\n",
    "\n",
    "实现函数 `print_stats` 以输出损失和验证准确率。使用全局变量 `valid_features` 和 `valid_labels` 计算验证准确率。使用保留率 `1.0` 计算损失和验证准确率（loss and validation accuracy）。\n"
   ]
  },
  {
   "cell_type": "code",
   "execution_count": 35,
   "metadata": {
    "collapsed": true
   },
   "outputs": [],
   "source": [
    "def print_stats(session, feature_batch, label_batch, cost, accuracy):\n",
    "    \"\"\"\n",
    "    Print information about loss and validation accuracy\n",
    "    : session: Current TensorFlow session\n",
    "    : feature_batch: Batch of Numpy image data\n",
    "    : label_batch: Batch of Numpy label data\n",
    "    : cost: TensorFlow cost function\n",
    "    : accuracy: TensorFlow accuracy function\n",
    "    \"\"\"\n",
    "    # TODO: Implement Function\n",
    "    loss = session.run(cost, feed_dict = {\n",
    "                          x:feature_batch,\n",
    "                          y:label_batch,\n",
    "                          keep_prob:1.0                        \n",
    "                      })\n",
    "    valid_acc = sess.run(accuracy, feed_dict = {\n",
    "        x:valid_features,\n",
    "        y:valid_labels,\n",
    "        keep_prob:1        \n",
    "    })\n",
    "    print('Loss: {:.4f} Validation Accuracy: {:.4f}'.format(loss, valid_acc))"
   ]
  },
  {
   "cell_type": "markdown",
   "metadata": {},
   "source": [
    "### 超参数\n",
    "\n",
    "调试以下超参数：\n",
    "* 设置 `epochs` 表示神经网络停止学习或开始过拟合的迭代次数\n",
    "* 设置 `batch_size`，表示机器内存允许的部分最大体积。大部分人设为以下常见内存大小：\n",
    "\n",
    " * 64\n",
    " * 128\n",
    " * 256\n",
    " * ...\n",
    "* 设置 `keep_probability` 表示使用丢弃时保留节点的概率"
   ]
  },
  {
   "cell_type": "code",
   "execution_count": 36,
   "metadata": {
    "collapsed": true
   },
   "outputs": [],
   "source": [
    "# TODO: Tune Parameters\n",
    "epochs = 100\n",
    "batch_size = 512\n",
    "keep_probability = 0.2"
   ]
  },
  {
   "cell_type": "markdown",
   "metadata": {},
   "source": [
    "### 在单个 CIFAR-10 部分上训练\n",
    "\n",
    "我们先用单个部分，而不是用所有的 CIFAR-10 批次训练神经网络。这样可以节省时间，并对模型进行迭代，以提高准确率。最终验证准确率达到 50% 或以上之后，在下一部分对所有数据运行模型。\n"
   ]
  },
  {
   "cell_type": "code",
   "execution_count": 37,
   "metadata": {
    "collapsed": false
   },
   "outputs": [
    {
     "name": "stdout",
     "output_type": "stream",
     "text": [
      "Checking the Training on a Single Batch...\n",
      "Epoch  1, CIFAR-10 Batch 1:  Loss: 2.2849 Validation Accuracy: 0.1262\n",
      "Epoch  2, CIFAR-10 Batch 1:  Loss: 2.2927 Validation Accuracy: 0.1410\n",
      "Epoch  3, CIFAR-10 Batch 1:  Loss: 2.2920 Validation Accuracy: 0.1378\n",
      "Epoch  4, CIFAR-10 Batch 1:  Loss: 2.2886 Validation Accuracy: 0.1438\n",
      "Epoch  5, CIFAR-10 Batch 1:  Loss: 2.2819 Validation Accuracy: 0.1772\n",
      "Epoch  6, CIFAR-10 Batch 1:  Loss: 2.2693 Validation Accuracy: 0.2050\n",
      "Epoch  7, CIFAR-10 Batch 1:  Loss: 2.2531 Validation Accuracy: 0.2006\n",
      "Epoch  8, CIFAR-10 Batch 1:  Loss: 2.2109 Validation Accuracy: 0.2240\n",
      "Epoch  9, CIFAR-10 Batch 1:  Loss: 2.1750 Validation Accuracy: 0.2398\n",
      "Epoch 10, CIFAR-10 Batch 1:  Loss: 2.1131 Validation Accuracy: 0.2592\n",
      "Epoch 11, CIFAR-10 Batch 1:  Loss: 2.0785 Validation Accuracy: 0.2676\n",
      "Epoch 12, CIFAR-10 Batch 1:  Loss: 2.0492 Validation Accuracy: 0.2776\n",
      "Epoch 13, CIFAR-10 Batch 1:  Loss: 2.0173 Validation Accuracy: 0.2916\n",
      "Epoch 14, CIFAR-10 Batch 1:  Loss: 1.9850 Validation Accuracy: 0.3052\n",
      "Epoch 15, CIFAR-10 Batch 1:  Loss: 1.9791 Validation Accuracy: 0.3064\n",
      "Epoch 16, CIFAR-10 Batch 1:  Loss: 1.9363 Validation Accuracy: 0.3250\n",
      "Epoch 17, CIFAR-10 Batch 1:  Loss: 1.9280 Validation Accuracy: 0.3108\n",
      "Epoch 18, CIFAR-10 Batch 1:  Loss: 1.9052 Validation Accuracy: 0.3302\n",
      "Epoch 19, CIFAR-10 Batch 1:  Loss: 1.8967 Validation Accuracy: 0.3180\n",
      "Epoch 20, CIFAR-10 Batch 1:  Loss: 1.8859 Validation Accuracy: 0.3126\n",
      "Epoch 21, CIFAR-10 Batch 1:  Loss: 1.8747 Validation Accuracy: 0.3494\n",
      "Epoch 22, CIFAR-10 Batch 1:  Loss: 1.8596 Validation Accuracy: 0.3512\n",
      "Epoch 23, CIFAR-10 Batch 1:  Loss: 1.8387 Validation Accuracy: 0.3604\n",
      "Epoch 24, CIFAR-10 Batch 1:  Loss: 1.8377 Validation Accuracy: 0.3588\n",
      "Epoch 25, CIFAR-10 Batch 1:  Loss: 1.8188 Validation Accuracy: 0.3654\n",
      "Epoch 26, CIFAR-10 Batch 1:  Loss: 1.7931 Validation Accuracy: 0.3694\n",
      "Epoch 27, CIFAR-10 Batch 1:  Loss: 1.7942 Validation Accuracy: 0.3636\n",
      "Epoch 28, CIFAR-10 Batch 1:  Loss: 1.7698 Validation Accuracy: 0.3778\n",
      "Epoch 29, CIFAR-10 Batch 1:  Loss: 1.7456 Validation Accuracy: 0.3900\n",
      "Epoch 30, CIFAR-10 Batch 1:  Loss: 1.7359 Validation Accuracy: 0.3964\n",
      "Epoch 31, CIFAR-10 Batch 1:  Loss: 1.7467 Validation Accuracy: 0.3882\n",
      "Epoch 32, CIFAR-10 Batch 1:  Loss: 1.7176 Validation Accuracy: 0.4076\n",
      "Epoch 33, CIFAR-10 Batch 1:  Loss: 1.7062 Validation Accuracy: 0.4016\n",
      "Epoch 34, CIFAR-10 Batch 1:  Loss: 1.7016 Validation Accuracy: 0.3962\n",
      "Epoch 35, CIFAR-10 Batch 1:  Loss: 1.6908 Validation Accuracy: 0.3988\n",
      "Epoch 36, CIFAR-10 Batch 1:  Loss: 1.6871 Validation Accuracy: 0.4058\n",
      "Epoch 37, CIFAR-10 Batch 1:  Loss: 1.6548 Validation Accuracy: 0.4028\n",
      "Epoch 38, CIFAR-10 Batch 1:  Loss: 1.6567 Validation Accuracy: 0.4130\n",
      "Epoch 39, CIFAR-10 Batch 1:  Loss: 1.6577 Validation Accuracy: 0.4124\n",
      "Epoch 40, CIFAR-10 Batch 1:  Loss: 1.6535 Validation Accuracy: 0.4248\n",
      "Epoch 41, CIFAR-10 Batch 1:  Loss: 1.6226 Validation Accuracy: 0.4396\n",
      "Epoch 42, CIFAR-10 Batch 1:  Loss: 1.6350 Validation Accuracy: 0.4280\n",
      "Epoch 43, CIFAR-10 Batch 1:  Loss: 1.6180 Validation Accuracy: 0.4376\n",
      "Epoch 44, CIFAR-10 Batch 1:  Loss: 1.6011 Validation Accuracy: 0.4406\n",
      "Epoch 45, CIFAR-10 Batch 1:  Loss: 1.5966 Validation Accuracy: 0.4418\n",
      "Epoch 46, CIFAR-10 Batch 1:  Loss: 1.5856 Validation Accuracy: 0.4410\n",
      "Epoch 47, CIFAR-10 Batch 1:  Loss: 1.5759 Validation Accuracy: 0.4514\n",
      "Epoch 48, CIFAR-10 Batch 1:  Loss: 1.5910 Validation Accuracy: 0.4282\n",
      "Epoch 49, CIFAR-10 Batch 1:  Loss: 1.5798 Validation Accuracy: 0.4398\n",
      "Epoch 50, CIFAR-10 Batch 1:  Loss: 1.5732 Validation Accuracy: 0.4438\n",
      "Epoch 51, CIFAR-10 Batch 1:  Loss: 1.5807 Validation Accuracy: 0.4424\n",
      "Epoch 52, CIFAR-10 Batch 1:  Loss: 1.5613 Validation Accuracy: 0.4422\n",
      "Epoch 53, CIFAR-10 Batch 1:  Loss: 1.5437 Validation Accuracy: 0.4598\n",
      "Epoch 54, CIFAR-10 Batch 1:  Loss: 1.5327 Validation Accuracy: 0.4464\n",
      "Epoch 55, CIFAR-10 Batch 1:  Loss: 1.5286 Validation Accuracy: 0.4690\n",
      "Epoch 56, CIFAR-10 Batch 1:  Loss: 1.5290 Validation Accuracy: 0.4622\n",
      "Epoch 57, CIFAR-10 Batch 1:  Loss: 1.5075 Validation Accuracy: 0.4614\n",
      "Epoch 58, CIFAR-10 Batch 1:  Loss: 1.5351 Validation Accuracy: 0.4538\n",
      "Epoch 59, CIFAR-10 Batch 1:  Loss: 1.5071 Validation Accuracy: 0.4660\n",
      "Epoch 60, CIFAR-10 Batch 1:  Loss: 1.5076 Validation Accuracy: 0.4658\n",
      "Epoch 61, CIFAR-10 Batch 1:  Loss: 1.4964 Validation Accuracy: 0.4720\n",
      "Epoch 62, CIFAR-10 Batch 1:  Loss: 1.5201 Validation Accuracy: 0.4512\n",
      "Epoch 63, CIFAR-10 Batch 1:  Loss: 1.4896 Validation Accuracy: 0.4654\n",
      "Epoch 64, CIFAR-10 Batch 1:  Loss: 1.4831 Validation Accuracy: 0.4606\n",
      "Epoch 65, CIFAR-10 Batch 1:  Loss: 1.4655 Validation Accuracy: 0.4750\n",
      "Epoch 66, CIFAR-10 Batch 1:  Loss: 1.4559 Validation Accuracy: 0.4746\n",
      "Epoch 67, CIFAR-10 Batch 1:  Loss: 1.4690 Validation Accuracy: 0.4816\n",
      "Epoch 68, CIFAR-10 Batch 1:  Loss: 1.4558 Validation Accuracy: 0.4674\n",
      "Epoch 69, CIFAR-10 Batch 1:  Loss: 1.4529 Validation Accuracy: 0.4736\n",
      "Epoch 70, CIFAR-10 Batch 1:  Loss: 1.4506 Validation Accuracy: 0.4814\n",
      "Epoch 71, CIFAR-10 Batch 1:  Loss: 1.4456 Validation Accuracy: 0.4712\n",
      "Epoch 72, CIFAR-10 Batch 1:  Loss: 1.4392 Validation Accuracy: 0.4784\n",
      "Epoch 73, CIFAR-10 Batch 1:  Loss: 1.4221 Validation Accuracy: 0.4860\n",
      "Epoch 74, CIFAR-10 Batch 1:  Loss: 1.4066 Validation Accuracy: 0.4880\n",
      "Epoch 75, CIFAR-10 Batch 1:  Loss: 1.4205 Validation Accuracy: 0.4804\n",
      "Epoch 76, CIFAR-10 Batch 1:  Loss: 1.4156 Validation Accuracy: 0.4860\n",
      "Epoch 77, CIFAR-10 Batch 1:  Loss: 1.4095 Validation Accuracy: 0.4920\n",
      "Epoch 78, CIFAR-10 Batch 1:  Loss: 1.4041 Validation Accuracy: 0.4852\n",
      "Epoch 79, CIFAR-10 Batch 1:  Loss: 1.4161 Validation Accuracy: 0.4738\n",
      "Epoch 80, CIFAR-10 Batch 1:  Loss: 1.4183 Validation Accuracy: 0.4884\n",
      "Epoch 81, CIFAR-10 Batch 1:  Loss: 1.4095 Validation Accuracy: 0.4836\n",
      "Epoch 82, CIFAR-10 Batch 1:  Loss: 1.3811 Validation Accuracy: 0.4926\n",
      "Epoch 83, CIFAR-10 Batch 1:  Loss: 1.3774 Validation Accuracy: 0.4984\n",
      "Epoch 84, CIFAR-10 Batch 1:  Loss: 1.3668 Validation Accuracy: 0.5042\n",
      "Epoch 85, CIFAR-10 Batch 1:  Loss: 1.3879 Validation Accuracy: 0.4752\n",
      "Epoch 86, CIFAR-10 Batch 1:  Loss: 1.3677 Validation Accuracy: 0.4872\n",
      "Epoch 87, CIFAR-10 Batch 1:  Loss: 1.3394 Validation Accuracy: 0.4978\n",
      "Epoch 88, CIFAR-10 Batch 1:  Loss: 1.3512 Validation Accuracy: 0.4958\n",
      "Epoch 89, CIFAR-10 Batch 1:  Loss: 1.3497 Validation Accuracy: 0.4974\n",
      "Epoch 90, CIFAR-10 Batch 1:  Loss: 1.3268 Validation Accuracy: 0.5040\n",
      "Epoch 91, CIFAR-10 Batch 1:  Loss: 1.3484 Validation Accuracy: 0.4970\n",
      "Epoch 92, CIFAR-10 Batch 1:  Loss: 1.3424 Validation Accuracy: 0.4950\n",
      "Epoch 93, CIFAR-10 Batch 1:  Loss: 1.3308 Validation Accuracy: 0.4974\n",
      "Epoch 94, CIFAR-10 Batch 1:  Loss: 1.3127 Validation Accuracy: 0.4918\n",
      "Epoch 95, CIFAR-10 Batch 1:  Loss: 1.3174 Validation Accuracy: 0.4998\n",
      "Epoch 96, CIFAR-10 Batch 1:  Loss: 1.3129 Validation Accuracy: 0.5084\n",
      "Epoch 97, CIFAR-10 Batch 1:  Loss: 1.3315 Validation Accuracy: 0.5034\n",
      "Epoch 98, CIFAR-10 Batch 1:  Loss: 1.3131 Validation Accuracy: 0.4888\n",
      "Epoch 99, CIFAR-10 Batch 1:  Loss: 1.3065 Validation Accuracy: 0.5062\n",
      "Epoch 100, CIFAR-10 Batch 1:  Loss: 1.3073 Validation Accuracy: 0.4988\n"
     ]
    }
   ],
   "source": [
    "\"\"\"\n",
    "DON'T MODIFY ANYTHING IN THIS CELL\n",
    "\"\"\"\n",
    "print('Checking the Training on a Single Batch...')\n",
    "with tf.Session() as sess:\n",
    "    # Initializing the variables\n",
    "    sess.run(tf.global_variables_initializer())\n",
    "    \n",
    "    # Training cycle\n",
    "    for epoch in range(epochs):\n",
    "        batch_i = 1\n",
    "        for batch_features, batch_labels in helper.load_preprocess_training_batch(batch_i, batch_size):\n",
    "            train_neural_network(sess, optimizer, keep_probability, batch_features, batch_labels)\n",
    "        print('Epoch {:>2}, CIFAR-10 Batch {}:  '.format(epoch + 1, batch_i), end='')\n",
    "        print_stats(sess, batch_features, batch_labels, cost, accuracy)"
   ]
  },
  {
   "cell_type": "markdown",
   "metadata": {},
   "source": [
    "### 完全训练模型\n",
    "\n",
    "现在，单个 CIFAR-10 部分的准确率已经不错了，试试所有五个部分吧。"
   ]
  },
  {
   "cell_type": "code",
   "execution_count": 38,
   "metadata": {
    "collapsed": false
   },
   "outputs": [
    {
     "name": "stdout",
     "output_type": "stream",
     "text": [
      "Training...\n",
      "Epoch  1, CIFAR-10 Batch 1:  Loss: 2.2979 Validation Accuracy: 0.1156\n",
      "Epoch  1, CIFAR-10 Batch 2:  Loss: 2.2932 Validation Accuracy: 0.1424\n",
      "Epoch  1, CIFAR-10 Batch 3:  Loss: 2.2916 Validation Accuracy: 0.1588\n",
      "Epoch  1, CIFAR-10 Batch 4:  Loss: 2.2882 Validation Accuracy: 0.1722\n",
      "Epoch  1, CIFAR-10 Batch 5:  Loss: 2.2839 Validation Accuracy: 0.1966\n",
      "Epoch  2, CIFAR-10 Batch 1:  Loss: 2.2767 Validation Accuracy: 0.2094\n",
      "Epoch  2, CIFAR-10 Batch 2:  Loss: 2.2756 Validation Accuracy: 0.2252\n",
      "Epoch  2, CIFAR-10 Batch 3:  Loss: 2.2372 Validation Accuracy: 0.2420\n",
      "Epoch  2, CIFAR-10 Batch 4:  Loss: 2.2277 Validation Accuracy: 0.2430\n",
      "Epoch  2, CIFAR-10 Batch 5:  Loss: 2.2132 Validation Accuracy: 0.2430\n",
      "Epoch  3, CIFAR-10 Batch 1:  Loss: 2.1806 Validation Accuracy: 0.2662\n",
      "Epoch  3, CIFAR-10 Batch 2:  Loss: 2.1599 Validation Accuracy: 0.2734\n",
      "Epoch  3, CIFAR-10 Batch 3:  Loss: 2.0926 Validation Accuracy: 0.2928\n",
      "Epoch  3, CIFAR-10 Batch 4:  Loss: 2.0881 Validation Accuracy: 0.2780\n",
      "Epoch  3, CIFAR-10 Batch 5:  Loss: 2.0561 Validation Accuracy: 0.2872\n",
      "Epoch  4, CIFAR-10 Batch 1:  Loss: 2.0550 Validation Accuracy: 0.3022\n",
      "Epoch  4, CIFAR-10 Batch 2:  Loss: 2.0068 Validation Accuracy: 0.3126\n",
      "Epoch  4, CIFAR-10 Batch 3:  Loss: 1.9567 Validation Accuracy: 0.3276\n",
      "Epoch  4, CIFAR-10 Batch 4:  Loss: 1.9103 Validation Accuracy: 0.3388\n",
      "Epoch  4, CIFAR-10 Batch 5:  Loss: 1.9132 Validation Accuracy: 0.3322\n",
      "Epoch  5, CIFAR-10 Batch 1:  Loss: 1.9765 Validation Accuracy: 0.3322\n",
      "Epoch  5, CIFAR-10 Batch 2:  Loss: 1.8932 Validation Accuracy: 0.3558\n",
      "Epoch  5, CIFAR-10 Batch 3:  Loss: 1.8275 Validation Accuracy: 0.3576\n",
      "Epoch  5, CIFAR-10 Batch 4:  Loss: 1.8486 Validation Accuracy: 0.3350\n",
      "Epoch  5, CIFAR-10 Batch 5:  Loss: 1.8395 Validation Accuracy: 0.3676\n",
      "Epoch  6, CIFAR-10 Batch 1:  Loss: 1.8998 Validation Accuracy: 0.3636\n",
      "Epoch  6, CIFAR-10 Batch 2:  Loss: 1.8392 Validation Accuracy: 0.3740\n",
      "Epoch  6, CIFAR-10 Batch 3:  Loss: 1.7744 Validation Accuracy: 0.3852\n",
      "Epoch  6, CIFAR-10 Batch 4:  Loss: 1.7567 Validation Accuracy: 0.3688\n",
      "Epoch  6, CIFAR-10 Batch 5:  Loss: 1.7955 Validation Accuracy: 0.3604\n",
      "Epoch  7, CIFAR-10 Batch 1:  Loss: 1.8363 Validation Accuracy: 0.3994\n",
      "Epoch  7, CIFAR-10 Batch 2:  Loss: 1.7921 Validation Accuracy: 0.3830\n",
      "Epoch  7, CIFAR-10 Batch 3:  Loss: 1.7226 Validation Accuracy: 0.3926\n",
      "Epoch  7, CIFAR-10 Batch 4:  Loss: 1.7219 Validation Accuracy: 0.3790\n",
      "Epoch  7, CIFAR-10 Batch 5:  Loss: 1.7383 Validation Accuracy: 0.3978\n",
      "Epoch  8, CIFAR-10 Batch 1:  Loss: 1.8030 Validation Accuracy: 0.3992\n",
      "Epoch  8, CIFAR-10 Batch 2:  Loss: 1.7419 Validation Accuracy: 0.4006\n",
      "Epoch  8, CIFAR-10 Batch 3:  Loss: 1.6420 Validation Accuracy: 0.4206\n",
      "Epoch  8, CIFAR-10 Batch 4:  Loss: 1.6586 Validation Accuracy: 0.4056\n",
      "Epoch  8, CIFAR-10 Batch 5:  Loss: 1.6950 Validation Accuracy: 0.3934\n",
      "Epoch  9, CIFAR-10 Batch 1:  Loss: 1.7754 Validation Accuracy: 0.4172\n",
      "Epoch  9, CIFAR-10 Batch 2:  Loss: 1.7077 Validation Accuracy: 0.4240\n",
      "Epoch  9, CIFAR-10 Batch 3:  Loss: 1.5895 Validation Accuracy: 0.4312\n",
      "Epoch  9, CIFAR-10 Batch 4:  Loss: 1.6005 Validation Accuracy: 0.4320\n",
      "Epoch  9, CIFAR-10 Batch 5:  Loss: 1.6480 Validation Accuracy: 0.4232\n",
      "Epoch 10, CIFAR-10 Batch 1:  Loss: 1.7207 Validation Accuracy: 0.4502\n",
      "Epoch 10, CIFAR-10 Batch 2:  Loss: 1.6526 Validation Accuracy: 0.4378\n",
      "Epoch 10, CIFAR-10 Batch 3:  Loss: 1.5451 Validation Accuracy: 0.4342\n",
      "Epoch 10, CIFAR-10 Batch 4:  Loss: 1.5528 Validation Accuracy: 0.4398\n",
      "Epoch 10, CIFAR-10 Batch 5:  Loss: 1.6091 Validation Accuracy: 0.4442\n",
      "Epoch 11, CIFAR-10 Batch 1:  Loss: 1.6972 Validation Accuracy: 0.4542\n",
      "Epoch 11, CIFAR-10 Batch 2:  Loss: 1.6471 Validation Accuracy: 0.4452\n",
      "Epoch 11, CIFAR-10 Batch 3:  Loss: 1.5073 Validation Accuracy: 0.4450\n",
      "Epoch 11, CIFAR-10 Batch 4:  Loss: 1.5372 Validation Accuracy: 0.4454\n",
      "Epoch 11, CIFAR-10 Batch 5:  Loss: 1.5762 Validation Accuracy: 0.4532\n",
      "Epoch 12, CIFAR-10 Batch 1:  Loss: 1.6697 Validation Accuracy: 0.4744\n",
      "Epoch 12, CIFAR-10 Batch 2:  Loss: 1.5802 Validation Accuracy: 0.4586\n",
      "Epoch 12, CIFAR-10 Batch 3:  Loss: 1.4779 Validation Accuracy: 0.4594\n",
      "Epoch 12, CIFAR-10 Batch 4:  Loss: 1.4930 Validation Accuracy: 0.4662\n",
      "Epoch 12, CIFAR-10 Batch 5:  Loss: 1.5578 Validation Accuracy: 0.4676\n",
      "Epoch 13, CIFAR-10 Batch 1:  Loss: 1.6608 Validation Accuracy: 0.4616\n",
      "Epoch 13, CIFAR-10 Batch 2:  Loss: 1.5346 Validation Accuracy: 0.4710\n",
      "Epoch 13, CIFAR-10 Batch 3:  Loss: 1.4507 Validation Accuracy: 0.4792\n",
      "Epoch 13, CIFAR-10 Batch 4:  Loss: 1.4631 Validation Accuracy: 0.4576\n",
      "Epoch 13, CIFAR-10 Batch 5:  Loss: 1.5292 Validation Accuracy: 0.4820\n",
      "Epoch 14, CIFAR-10 Batch 1:  Loss: 1.6189 Validation Accuracy: 0.4756\n",
      "Epoch 14, CIFAR-10 Batch 2:  Loss: 1.5217 Validation Accuracy: 0.4776\n",
      "Epoch 14, CIFAR-10 Batch 3:  Loss: 1.4574 Validation Accuracy: 0.4632\n",
      "Epoch 14, CIFAR-10 Batch 4:  Loss: 1.4600 Validation Accuracy: 0.4742\n",
      "Epoch 14, CIFAR-10 Batch 5:  Loss: 1.5115 Validation Accuracy: 0.4812\n",
      "Epoch 15, CIFAR-10 Batch 1:  Loss: 1.6082 Validation Accuracy: 0.4828\n",
      "Epoch 15, CIFAR-10 Batch 2:  Loss: 1.5337 Validation Accuracy: 0.4782\n",
      "Epoch 15, CIFAR-10 Batch 3:  Loss: 1.4218 Validation Accuracy: 0.4712\n",
      "Epoch 15, CIFAR-10 Batch 4:  Loss: 1.4586 Validation Accuracy: 0.4788\n",
      "Epoch 15, CIFAR-10 Batch 5:  Loss: 1.5006 Validation Accuracy: 0.4760\n",
      "Epoch 16, CIFAR-10 Batch 1:  Loss: 1.5884 Validation Accuracy: 0.4874\n",
      "Epoch 16, CIFAR-10 Batch 2:  Loss: 1.5352 Validation Accuracy: 0.4672\n",
      "Epoch 16, CIFAR-10 Batch 3:  Loss: 1.3985 Validation Accuracy: 0.4898\n",
      "Epoch 16, CIFAR-10 Batch 4:  Loss: 1.4230 Validation Accuracy: 0.4662\n",
      "Epoch 16, CIFAR-10 Batch 5:  Loss: 1.4816 Validation Accuracy: 0.4858\n",
      "Epoch 17, CIFAR-10 Batch 1:  Loss: 1.5639 Validation Accuracy: 0.4946\n",
      "Epoch 17, CIFAR-10 Batch 2:  Loss: 1.4747 Validation Accuracy: 0.4850\n",
      "Epoch 17, CIFAR-10 Batch 3:  Loss: 1.3934 Validation Accuracy: 0.4962\n",
      "Epoch 17, CIFAR-10 Batch 4:  Loss: 1.4072 Validation Accuracy: 0.4832\n",
      "Epoch 17, CIFAR-10 Batch 5:  Loss: 1.4548 Validation Accuracy: 0.4976\n",
      "Epoch 18, CIFAR-10 Batch 1:  Loss: 1.5519 Validation Accuracy: 0.4980\n",
      "Epoch 18, CIFAR-10 Batch 2:  Loss: 1.4704 Validation Accuracy: 0.4810\n",
      "Epoch 18, CIFAR-10 Batch 3:  Loss: 1.3548 Validation Accuracy: 0.4960\n",
      "Epoch 18, CIFAR-10 Batch 4:  Loss: 1.4014 Validation Accuracy: 0.4976\n",
      "Epoch 18, CIFAR-10 Batch 5:  Loss: 1.4453 Validation Accuracy: 0.4954\n",
      "Epoch 19, CIFAR-10 Batch 1:  Loss: 1.5447 Validation Accuracy: 0.5054\n",
      "Epoch 19, CIFAR-10 Batch 2:  Loss: 1.4678 Validation Accuracy: 0.4876\n",
      "Epoch 19, CIFAR-10 Batch 3:  Loss: 1.3489 Validation Accuracy: 0.4880\n",
      "Epoch 19, CIFAR-10 Batch 4:  Loss: 1.3803 Validation Accuracy: 0.5032\n",
      "Epoch 19, CIFAR-10 Batch 5:  Loss: 1.4244 Validation Accuracy: 0.4992\n",
      "Epoch 20, CIFAR-10 Batch 1:  Loss: 1.5273 Validation Accuracy: 0.5032\n",
      "Epoch 20, CIFAR-10 Batch 2:  Loss: 1.4190 Validation Accuracy: 0.4970\n",
      "Epoch 20, CIFAR-10 Batch 3:  Loss: 1.3211 Validation Accuracy: 0.5020\n",
      "Epoch 20, CIFAR-10 Batch 4:  Loss: 1.3511 Validation Accuracy: 0.5150\n",
      "Epoch 20, CIFAR-10 Batch 5:  Loss: 1.4002 Validation Accuracy: 0.5038\n",
      "Epoch 21, CIFAR-10 Batch 1:  Loss: 1.5119 Validation Accuracy: 0.5108\n",
      "Epoch 21, CIFAR-10 Batch 2:  Loss: 1.4090 Validation Accuracy: 0.5008\n",
      "Epoch 21, CIFAR-10 Batch 3:  Loss: 1.3430 Validation Accuracy: 0.4974\n",
      "Epoch 21, CIFAR-10 Batch 4:  Loss: 1.3435 Validation Accuracy: 0.5056\n",
      "Epoch 21, CIFAR-10 Batch 5:  Loss: 1.4116 Validation Accuracy: 0.5128\n",
      "Epoch 22, CIFAR-10 Batch 1:  Loss: 1.4927 Validation Accuracy: 0.5072\n",
      "Epoch 22, CIFAR-10 Batch 2:  Loss: 1.4111 Validation Accuracy: 0.5028\n",
      "Epoch 22, CIFAR-10 Batch 3:  Loss: 1.3115 Validation Accuracy: 0.5110\n",
      "Epoch 22, CIFAR-10 Batch 4:  Loss: 1.3349 Validation Accuracy: 0.5068\n",
      "Epoch 22, CIFAR-10 Batch 5:  Loss: 1.3945 Validation Accuracy: 0.5174\n",
      "Epoch 23, CIFAR-10 Batch 1:  Loss: 1.4855 Validation Accuracy: 0.5098\n",
      "Epoch 23, CIFAR-10 Batch 2:  Loss: 1.4346 Validation Accuracy: 0.4886\n",
      "Epoch 23, CIFAR-10 Batch 3:  Loss: 1.2985 Validation Accuracy: 0.5036\n",
      "Epoch 23, CIFAR-10 Batch 4:  Loss: 1.3357 Validation Accuracy: 0.5036\n",
      "Epoch 23, CIFAR-10 Batch 5:  Loss: 1.3684 Validation Accuracy: 0.5232\n",
      "Epoch 24, CIFAR-10 Batch 1:  Loss: 1.4705 Validation Accuracy: 0.5288\n",
      "Epoch 24, CIFAR-10 Batch 2:  Loss: 1.3885 Validation Accuracy: 0.5058\n",
      "Epoch 24, CIFAR-10 Batch 3:  Loss: 1.2607 Validation Accuracy: 0.5232\n",
      "Epoch 24, CIFAR-10 Batch 4:  Loss: 1.3026 Validation Accuracy: 0.5244\n",
      "Epoch 24, CIFAR-10 Batch 5:  Loss: 1.3438 Validation Accuracy: 0.5286\n",
      "Epoch 25, CIFAR-10 Batch 1:  Loss: 1.4611 Validation Accuracy: 0.5242\n",
      "Epoch 25, CIFAR-10 Batch 2:  Loss: 1.3424 Validation Accuracy: 0.5272\n",
      "Epoch 25, CIFAR-10 Batch 3:  Loss: 1.2491 Validation Accuracy: 0.5254\n",
      "Epoch 25, CIFAR-10 Batch 4:  Loss: 1.2729 Validation Accuracy: 0.5134\n",
      "Epoch 25, CIFAR-10 Batch 5:  Loss: 1.3274 Validation Accuracy: 0.5274\n",
      "Epoch 26, CIFAR-10 Batch 1:  Loss: 1.4483 Validation Accuracy: 0.5238\n",
      "Epoch 26, CIFAR-10 Batch 2:  Loss: 1.3798 Validation Accuracy: 0.5072\n",
      "Epoch 26, CIFAR-10 Batch 3:  Loss: 1.2558 Validation Accuracy: 0.5238\n",
      "Epoch 26, CIFAR-10 Batch 4:  Loss: 1.2806 Validation Accuracy: 0.5116\n",
      "Epoch 26, CIFAR-10 Batch 5:  Loss: 1.3468 Validation Accuracy: 0.5328\n",
      "Epoch 27, CIFAR-10 Batch 1:  Loss: 1.4360 Validation Accuracy: 0.5336\n",
      "Epoch 27, CIFAR-10 Batch 2:  Loss: 1.3463 Validation Accuracy: 0.5230\n",
      "Epoch 27, CIFAR-10 Batch 3:  Loss: 1.2310 Validation Accuracy: 0.5254\n",
      "Epoch 27, CIFAR-10 Batch 4:  Loss: 1.2498 Validation Accuracy: 0.5274\n",
      "Epoch 27, CIFAR-10 Batch 5:  Loss: 1.3085 Validation Accuracy: 0.5296\n",
      "Epoch 28, CIFAR-10 Batch 1:  Loss: 1.4142 Validation Accuracy: 0.5340\n",
      "Epoch 28, CIFAR-10 Batch 2:  Loss: 1.3512 Validation Accuracy: 0.5234\n",
      "Epoch 28, CIFAR-10 Batch 3:  Loss: 1.2442 Validation Accuracy: 0.5284\n",
      "Epoch 28, CIFAR-10 Batch 4:  Loss: 1.2514 Validation Accuracy: 0.5276\n",
      "Epoch 28, CIFAR-10 Batch 5:  Loss: 1.2957 Validation Accuracy: 0.5368\n",
      "Epoch 29, CIFAR-10 Batch 1:  Loss: 1.4043 Validation Accuracy: 0.5372\n",
      "Epoch 29, CIFAR-10 Batch 2:  Loss: 1.2981 Validation Accuracy: 0.5354\n",
      "Epoch 29, CIFAR-10 Batch 3:  Loss: 1.2404 Validation Accuracy: 0.5412\n",
      "Epoch 29, CIFAR-10 Batch 4:  Loss: 1.2564 Validation Accuracy: 0.5286\n",
      "Epoch 29, CIFAR-10 Batch 5:  Loss: 1.2841 Validation Accuracy: 0.5418\n",
      "Epoch 30, CIFAR-10 Batch 1:  Loss: 1.3899 Validation Accuracy: 0.5468\n",
      "Epoch 30, CIFAR-10 Batch 2:  Loss: 1.3237 Validation Accuracy: 0.5290\n",
      "Epoch 30, CIFAR-10 Batch 3:  Loss: 1.2140 Validation Accuracy: 0.5444\n",
      "Epoch 30, CIFAR-10 Batch 4:  Loss: 1.2428 Validation Accuracy: 0.5320\n",
      "Epoch 30, CIFAR-10 Batch 5:  Loss: 1.2751 Validation Accuracy: 0.5490\n",
      "Epoch 31, CIFAR-10 Batch 1:  Loss: 1.3874 Validation Accuracy: 0.5466\n",
      "Epoch 31, CIFAR-10 Batch 2:  Loss: 1.3066 Validation Accuracy: 0.5246\n",
      "Epoch 31, CIFAR-10 Batch 3:  Loss: 1.1989 Validation Accuracy: 0.5416\n",
      "Epoch 31, CIFAR-10 Batch 4:  Loss: 1.2074 Validation Accuracy: 0.5430\n",
      "Epoch 31, CIFAR-10 Batch 5:  Loss: 1.2589 Validation Accuracy: 0.5504\n",
      "Epoch 32, CIFAR-10 Batch 1:  Loss: 1.3615 Validation Accuracy: 0.5448\n",
      "Epoch 32, CIFAR-10 Batch 2:  Loss: 1.3127 Validation Accuracy: 0.5328\n",
      "Epoch 32, CIFAR-10 Batch 3:  Loss: 1.1975 Validation Accuracy: 0.5346\n",
      "Epoch 32, CIFAR-10 Batch 4:  Loss: 1.1937 Validation Accuracy: 0.5382\n",
      "Epoch 32, CIFAR-10 Batch 5:  Loss: 1.2625 Validation Accuracy: 0.5434\n",
      "Epoch 33, CIFAR-10 Batch 1:  Loss: 1.3538 Validation Accuracy: 0.5482\n",
      "Epoch 33, CIFAR-10 Batch 2:  Loss: 1.2737 Validation Accuracy: 0.5352\n",
      "Epoch 33, CIFAR-10 Batch 3:  Loss: 1.2094 Validation Accuracy: 0.5494\n",
      "Epoch 33, CIFAR-10 Batch 4:  Loss: 1.1911 Validation Accuracy: 0.5440\n",
      "Epoch 33, CIFAR-10 Batch 5:  Loss: 1.2548 Validation Accuracy: 0.5446\n",
      "Epoch 34, CIFAR-10 Batch 1:  Loss: 1.3441 Validation Accuracy: 0.5512\n",
      "Epoch 34, CIFAR-10 Batch 2:  Loss: 1.2411 Validation Accuracy: 0.5458\n",
      "Epoch 34, CIFAR-10 Batch 3:  Loss: 1.1937 Validation Accuracy: 0.5474\n",
      "Epoch 34, CIFAR-10 Batch 4:  Loss: 1.1687 Validation Accuracy: 0.5474\n",
      "Epoch 34, CIFAR-10 Batch 5:  Loss: 1.2200 Validation Accuracy: 0.5526\n",
      "Epoch 35, CIFAR-10 Batch 1:  Loss: 1.3190 Validation Accuracy: 0.5482\n",
      "Epoch 35, CIFAR-10 Batch 2:  Loss: 1.2381 Validation Accuracy: 0.5502\n",
      "Epoch 35, CIFAR-10 Batch 3:  Loss: 1.1597 Validation Accuracy: 0.5480\n",
      "Epoch 35, CIFAR-10 Batch 4:  Loss: 1.1647 Validation Accuracy: 0.5520\n",
      "Epoch 35, CIFAR-10 Batch 5:  Loss: 1.2199 Validation Accuracy: 0.5436\n",
      "Epoch 36, CIFAR-10 Batch 1:  Loss: 1.3218 Validation Accuracy: 0.5506\n",
      "Epoch 36, CIFAR-10 Batch 2:  Loss: 1.2331 Validation Accuracy: 0.5444\n",
      "Epoch 36, CIFAR-10 Batch 3:  Loss: 1.1928 Validation Accuracy: 0.5516\n",
      "Epoch 36, CIFAR-10 Batch 4:  Loss: 1.1471 Validation Accuracy: 0.5530\n",
      "Epoch 36, CIFAR-10 Batch 5:  Loss: 1.2153 Validation Accuracy: 0.5550\n",
      "Epoch 37, CIFAR-10 Batch 1:  Loss: 1.3141 Validation Accuracy: 0.5478\n",
      "Epoch 37, CIFAR-10 Batch 2:  Loss: 1.2184 Validation Accuracy: 0.5516\n",
      "Epoch 37, CIFAR-10 Batch 3:  Loss: 1.1580 Validation Accuracy: 0.5340\n",
      "Epoch 37, CIFAR-10 Batch 4:  Loss: 1.1512 Validation Accuracy: 0.5594\n",
      "Epoch 37, CIFAR-10 Batch 5:  Loss: 1.2104 Validation Accuracy: 0.5570\n",
      "Epoch 38, CIFAR-10 Batch 1:  Loss: 1.3012 Validation Accuracy: 0.5580\n",
      "Epoch 38, CIFAR-10 Batch 2:  Loss: 1.2153 Validation Accuracy: 0.5564\n",
      "Epoch 38, CIFAR-10 Batch 3:  Loss: 1.1393 Validation Accuracy: 0.5600\n",
      "Epoch 38, CIFAR-10 Batch 4:  Loss: 1.1448 Validation Accuracy: 0.5650\n",
      "Epoch 38, CIFAR-10 Batch 5:  Loss: 1.1766 Validation Accuracy: 0.5662\n",
      "Epoch 39, CIFAR-10 Batch 1:  Loss: 1.2876 Validation Accuracy: 0.5650\n",
      "Epoch 39, CIFAR-10 Batch 2:  Loss: 1.1983 Validation Accuracy: 0.5666\n",
      "Epoch 39, CIFAR-10 Batch 3:  Loss: 1.1515 Validation Accuracy: 0.5578\n",
      "Epoch 39, CIFAR-10 Batch 4:  Loss: 1.1334 Validation Accuracy: 0.5628\n",
      "Epoch 39, CIFAR-10 Batch 5:  Loss: 1.1849 Validation Accuracy: 0.5612\n",
      "Epoch 40, CIFAR-10 Batch 1:  Loss: 1.2774 Validation Accuracy: 0.5744\n",
      "Epoch 40, CIFAR-10 Batch 2:  Loss: 1.2056 Validation Accuracy: 0.5674\n",
      "Epoch 40, CIFAR-10 Batch 3:  Loss: 1.1151 Validation Accuracy: 0.5572\n",
      "Epoch 40, CIFAR-10 Batch 4:  Loss: 1.1535 Validation Accuracy: 0.5670\n",
      "Epoch 40, CIFAR-10 Batch 5:  Loss: 1.1781 Validation Accuracy: 0.5630\n"
     ]
    },
    {
     "ename": "KeyboardInterrupt",
     "evalue": "",
     "output_type": "error",
     "traceback": [
      "\u001b[0;31m---------------------------------------------------------------------------\u001b[0m",
      "\u001b[0;31mKeyboardInterrupt\u001b[0m                         Traceback (most recent call last)",
      "\u001b[0;32m<ipython-input-38-9df3032ebe9d>\u001b[0m in \u001b[0;36m<module>\u001b[0;34m()\u001b[0m\n\u001b[1;32m     15\u001b[0m         \u001b[1;32mfor\u001b[0m \u001b[0mbatch_i\u001b[0m \u001b[1;32min\u001b[0m \u001b[0mrange\u001b[0m\u001b[1;33m(\u001b[0m\u001b[1;36m1\u001b[0m\u001b[1;33m,\u001b[0m \u001b[0mn_batches\u001b[0m \u001b[1;33m+\u001b[0m \u001b[1;36m1\u001b[0m\u001b[1;33m)\u001b[0m\u001b[1;33m:\u001b[0m\u001b[1;33m\u001b[0m\u001b[0m\n\u001b[1;32m     16\u001b[0m             \u001b[1;32mfor\u001b[0m \u001b[0mbatch_features\u001b[0m\u001b[1;33m,\u001b[0m \u001b[0mbatch_labels\u001b[0m \u001b[1;32min\u001b[0m \u001b[0mhelper\u001b[0m\u001b[1;33m.\u001b[0m\u001b[0mload_preprocess_training_batch\u001b[0m\u001b[1;33m(\u001b[0m\u001b[0mbatch_i\u001b[0m\u001b[1;33m,\u001b[0m \u001b[0mbatch_size\u001b[0m\u001b[1;33m)\u001b[0m\u001b[1;33m:\u001b[0m\u001b[1;33m\u001b[0m\u001b[0m\n\u001b[0;32m---> 17\u001b[0;31m                 \u001b[0mtrain_neural_network\u001b[0m\u001b[1;33m(\u001b[0m\u001b[0msess\u001b[0m\u001b[1;33m,\u001b[0m \u001b[0moptimizer\u001b[0m\u001b[1;33m,\u001b[0m \u001b[0mkeep_probability\u001b[0m\u001b[1;33m,\u001b[0m \u001b[0mbatch_features\u001b[0m\u001b[1;33m,\u001b[0m \u001b[0mbatch_labels\u001b[0m\u001b[1;33m)\u001b[0m\u001b[1;33m\u001b[0m\u001b[0m\n\u001b[0m\u001b[1;32m     18\u001b[0m             \u001b[0mprint\u001b[0m\u001b[1;33m(\u001b[0m\u001b[1;34m'Epoch {:>2}, CIFAR-10 Batch {}:  '\u001b[0m\u001b[1;33m.\u001b[0m\u001b[0mformat\u001b[0m\u001b[1;33m(\u001b[0m\u001b[0mepoch\u001b[0m \u001b[1;33m+\u001b[0m \u001b[1;36m1\u001b[0m\u001b[1;33m,\u001b[0m \u001b[0mbatch_i\u001b[0m\u001b[1;33m)\u001b[0m\u001b[1;33m,\u001b[0m \u001b[0mend\u001b[0m\u001b[1;33m=\u001b[0m\u001b[1;34m''\u001b[0m\u001b[1;33m)\u001b[0m\u001b[1;33m\u001b[0m\u001b[0m\n\u001b[1;32m     19\u001b[0m             \u001b[0mprint_stats\u001b[0m\u001b[1;33m(\u001b[0m\u001b[0msess\u001b[0m\u001b[1;33m,\u001b[0m \u001b[0mbatch_features\u001b[0m\u001b[1;33m,\u001b[0m \u001b[0mbatch_labels\u001b[0m\u001b[1;33m,\u001b[0m \u001b[0mcost\u001b[0m\u001b[1;33m,\u001b[0m \u001b[0maccuracy\u001b[0m\u001b[1;33m)\u001b[0m\u001b[1;33m\u001b[0m\u001b[0m\n",
      "\u001b[0;32m<ipython-input-33-88b96ca36d93>\u001b[0m in \u001b[0;36mtrain_neural_network\u001b[0;34m(session, optimizer, keep_probability, feature_batch, label_batch)\u001b[0m\n\u001b[1;32m     13\u001b[0m         \u001b[0mx\u001b[0m\u001b[1;33m:\u001b[0m\u001b[0mfeature_batch\u001b[0m\u001b[1;33m,\u001b[0m\u001b[1;33m\u001b[0m\u001b[0m\n\u001b[1;32m     14\u001b[0m         \u001b[0my\u001b[0m\u001b[1;33m:\u001b[0m\u001b[0mlabel_batch\u001b[0m\u001b[1;33m,\u001b[0m\u001b[1;33m\u001b[0m\u001b[0m\n\u001b[0;32m---> 15\u001b[0;31m         \u001b[0mkeep_prob\u001b[0m\u001b[1;33m:\u001b[0m\u001b[0mkeep_probability\u001b[0m\u001b[1;33m\u001b[0m\u001b[0m\n\u001b[0m\u001b[1;32m     16\u001b[0m \u001b[1;33m\u001b[0m\u001b[0m\n\u001b[1;32m     17\u001b[0m     }\n",
      "\u001b[0;32mD:\\ProgramData\\Anaconda3\\envs\\dlnd-tf-lab\\lib\\site-packages\\tensorflow\\python\\client\\session.py\u001b[0m in \u001b[0;36mrun\u001b[0;34m(self, fetches, feed_dict, options, run_metadata)\u001b[0m\n\u001b[1;32m    765\u001b[0m     \u001b[1;32mtry\u001b[0m\u001b[1;33m:\u001b[0m\u001b[1;33m\u001b[0m\u001b[0m\n\u001b[1;32m    766\u001b[0m       result = self._run(None, fetches, feed_dict, options_ptr,\n\u001b[0;32m--> 767\u001b[0;31m                          run_metadata_ptr)\n\u001b[0m\u001b[1;32m    768\u001b[0m       \u001b[1;32mif\u001b[0m \u001b[0mrun_metadata\u001b[0m\u001b[1;33m:\u001b[0m\u001b[1;33m\u001b[0m\u001b[0m\n\u001b[1;32m    769\u001b[0m         \u001b[0mproto_data\u001b[0m \u001b[1;33m=\u001b[0m \u001b[0mtf_session\u001b[0m\u001b[1;33m.\u001b[0m\u001b[0mTF_GetBuffer\u001b[0m\u001b[1;33m(\u001b[0m\u001b[0mrun_metadata_ptr\u001b[0m\u001b[1;33m)\u001b[0m\u001b[1;33m\u001b[0m\u001b[0m\n",
      "\u001b[0;32mD:\\ProgramData\\Anaconda3\\envs\\dlnd-tf-lab\\lib\\site-packages\\tensorflow\\python\\client\\session.py\u001b[0m in \u001b[0;36m_run\u001b[0;34m(self, handle, fetches, feed_dict, options, run_metadata)\u001b[0m\n\u001b[1;32m    963\u001b[0m     \u001b[1;32mif\u001b[0m \u001b[0mfinal_fetches\u001b[0m \u001b[1;32mor\u001b[0m \u001b[0mfinal_targets\u001b[0m\u001b[1;33m:\u001b[0m\u001b[1;33m\u001b[0m\u001b[0m\n\u001b[1;32m    964\u001b[0m       results = self._do_run(handle, final_targets, final_fetches,\n\u001b[0;32m--> 965\u001b[0;31m                              feed_dict_string, options, run_metadata)\n\u001b[0m\u001b[1;32m    966\u001b[0m     \u001b[1;32melse\u001b[0m\u001b[1;33m:\u001b[0m\u001b[1;33m\u001b[0m\u001b[0m\n\u001b[1;32m    967\u001b[0m       \u001b[0mresults\u001b[0m \u001b[1;33m=\u001b[0m \u001b[1;33m[\u001b[0m\u001b[1;33m]\u001b[0m\u001b[1;33m\u001b[0m\u001b[0m\n",
      "\u001b[0;32mD:\\ProgramData\\Anaconda3\\envs\\dlnd-tf-lab\\lib\\site-packages\\tensorflow\\python\\client\\session.py\u001b[0m in \u001b[0;36m_do_run\u001b[0;34m(self, handle, target_list, fetch_list, feed_dict, options, run_metadata)\u001b[0m\n\u001b[1;32m   1013\u001b[0m     \u001b[1;32mif\u001b[0m \u001b[0mhandle\u001b[0m \u001b[1;32mis\u001b[0m \u001b[1;32mNone\u001b[0m\u001b[1;33m:\u001b[0m\u001b[1;33m\u001b[0m\u001b[0m\n\u001b[1;32m   1014\u001b[0m       return self._do_call(_run_fn, self._session, feed_dict, fetch_list,\n\u001b[0;32m-> 1015\u001b[0;31m                            target_list, options, run_metadata)\n\u001b[0m\u001b[1;32m   1016\u001b[0m     \u001b[1;32melse\u001b[0m\u001b[1;33m:\u001b[0m\u001b[1;33m\u001b[0m\u001b[0m\n\u001b[1;32m   1017\u001b[0m       return self._do_call(_prun_fn, self._session, handle, feed_dict,\n",
      "\u001b[0;32mD:\\ProgramData\\Anaconda3\\envs\\dlnd-tf-lab\\lib\\site-packages\\tensorflow\\python\\client\\session.py\u001b[0m in \u001b[0;36m_do_call\u001b[0;34m(self, fn, *args)\u001b[0m\n\u001b[1;32m   1020\u001b[0m   \u001b[1;32mdef\u001b[0m \u001b[0m_do_call\u001b[0m\u001b[1;33m(\u001b[0m\u001b[0mself\u001b[0m\u001b[1;33m,\u001b[0m \u001b[0mfn\u001b[0m\u001b[1;33m,\u001b[0m \u001b[1;33m*\u001b[0m\u001b[0margs\u001b[0m\u001b[1;33m)\u001b[0m\u001b[1;33m:\u001b[0m\u001b[1;33m\u001b[0m\u001b[0m\n\u001b[1;32m   1021\u001b[0m     \u001b[1;32mtry\u001b[0m\u001b[1;33m:\u001b[0m\u001b[1;33m\u001b[0m\u001b[0m\n\u001b[0;32m-> 1022\u001b[0;31m       \u001b[1;32mreturn\u001b[0m \u001b[0mfn\u001b[0m\u001b[1;33m(\u001b[0m\u001b[1;33m*\u001b[0m\u001b[0margs\u001b[0m\u001b[1;33m)\u001b[0m\u001b[1;33m\u001b[0m\u001b[0m\n\u001b[0m\u001b[1;32m   1023\u001b[0m     \u001b[1;32mexcept\u001b[0m \u001b[0merrors\u001b[0m\u001b[1;33m.\u001b[0m\u001b[0mOpError\u001b[0m \u001b[1;32mas\u001b[0m \u001b[0me\u001b[0m\u001b[1;33m:\u001b[0m\u001b[1;33m\u001b[0m\u001b[0m\n\u001b[1;32m   1024\u001b[0m       \u001b[0mmessage\u001b[0m \u001b[1;33m=\u001b[0m \u001b[0mcompat\u001b[0m\u001b[1;33m.\u001b[0m\u001b[0mas_text\u001b[0m\u001b[1;33m(\u001b[0m\u001b[0me\u001b[0m\u001b[1;33m.\u001b[0m\u001b[0mmessage\u001b[0m\u001b[1;33m)\u001b[0m\u001b[1;33m\u001b[0m\u001b[0m\n",
      "\u001b[0;32mD:\\ProgramData\\Anaconda3\\envs\\dlnd-tf-lab\\lib\\site-packages\\tensorflow\\python\\client\\session.py\u001b[0m in \u001b[0;36m_run_fn\u001b[0;34m(session, feed_dict, fetch_list, target_list, options, run_metadata)\u001b[0m\n\u001b[1;32m   1002\u001b[0m         return tf_session.TF_Run(session, options,\n\u001b[1;32m   1003\u001b[0m                                  \u001b[0mfeed_dict\u001b[0m\u001b[1;33m,\u001b[0m \u001b[0mfetch_list\u001b[0m\u001b[1;33m,\u001b[0m \u001b[0mtarget_list\u001b[0m\u001b[1;33m,\u001b[0m\u001b[1;33m\u001b[0m\u001b[0m\n\u001b[0;32m-> 1004\u001b[0;31m                                  status, run_metadata)\n\u001b[0m\u001b[1;32m   1005\u001b[0m \u001b[1;33m\u001b[0m\u001b[0m\n\u001b[1;32m   1006\u001b[0m     \u001b[1;32mdef\u001b[0m \u001b[0m_prun_fn\u001b[0m\u001b[1;33m(\u001b[0m\u001b[0msession\u001b[0m\u001b[1;33m,\u001b[0m \u001b[0mhandle\u001b[0m\u001b[1;33m,\u001b[0m \u001b[0mfeed_dict\u001b[0m\u001b[1;33m,\u001b[0m \u001b[0mfetch_list\u001b[0m\u001b[1;33m)\u001b[0m\u001b[1;33m:\u001b[0m\u001b[1;33m\u001b[0m\u001b[0m\n",
      "\u001b[0;31mKeyboardInterrupt\u001b[0m: "
     ]
    }
   ],
   "source": [
    "\"\"\"\n",
    "DON'T MODIFY ANYTHING IN THIS CELL\n",
    "\"\"\"\n",
    "save_model_path = './image_classification'\n",
    "\n",
    "print('Training...')\n",
    "with tf.Session() as sess:\n",
    "    # Initializing the variables\n",
    "    sess.run(tf.global_variables_initializer())\n",
    "    \n",
    "    # Training cycle\n",
    "    for epoch in range(epochs):\n",
    "        # Loop over all batches\n",
    "        n_batches = 5\n",
    "        for batch_i in range(1, n_batches + 1):\n",
    "            for batch_features, batch_labels in helper.load_preprocess_training_batch(batch_i, batch_size):\n",
    "                train_neural_network(sess, optimizer, keep_probability, batch_features, batch_labels)\n",
    "            print('Epoch {:>2}, CIFAR-10 Batch {}:  '.format(epoch + 1, batch_i), end='')\n",
    "            print_stats(sess, batch_features, batch_labels, cost, accuracy)\n",
    "            \n",
    "    # Save Model\n",
    "    saver = tf.train.Saver()\n",
    "    save_path = saver.save(sess, save_model_path)"
   ]
  },
  {
   "cell_type": "markdown",
   "metadata": {},
   "source": [
    "# 检查点\n",
    "\n",
    "模型已保存到本地。\n",
    "\n",
    "## 测试模型\n",
    "\n",
    "利用测试数据集测试你的模型。这将是最终的准确率。你的准确率应该高于 50%。如果没达到，请继续调整模型结构和参数。"
   ]
  },
  {
   "cell_type": "code",
   "execution_count": 39,
   "metadata": {
    "collapsed": false
   },
   "outputs": [
    {
     "ename": "OSError",
     "evalue": "File ./image_classification.meta does not exist.",
     "output_type": "error",
     "traceback": [
      "\u001b[0;31m---------------------------------------------------------------------------\u001b[0m",
      "\u001b[0;31mOSError\u001b[0m                                   Traceback (most recent call last)",
      "\u001b[0;32m<ipython-input-39-5942ba961321>\u001b[0m in \u001b[0;36m<module>\u001b[0;34m()\u001b[0m\n\u001b[1;32m     61\u001b[0m \u001b[1;33m\u001b[0m\u001b[0m\n\u001b[1;32m     62\u001b[0m \u001b[1;33m\u001b[0m\u001b[0m\n\u001b[0;32m---> 63\u001b[0;31m \u001b[0mtest_model\u001b[0m\u001b[1;33m(\u001b[0m\u001b[1;33m)\u001b[0m\u001b[1;33m\u001b[0m\u001b[0m\n\u001b[0m",
      "\u001b[0;32m<ipython-input-39-5942ba961321>\u001b[0m in \u001b[0;36mtest_model\u001b[0;34m()\u001b[0m\n\u001b[1;32m     31\u001b[0m     \u001b[1;32mwith\u001b[0m \u001b[0mtf\u001b[0m\u001b[1;33m.\u001b[0m\u001b[0mSession\u001b[0m\u001b[1;33m(\u001b[0m\u001b[0mgraph\u001b[0m\u001b[1;33m=\u001b[0m\u001b[0mloaded_graph\u001b[0m\u001b[1;33m)\u001b[0m \u001b[1;32mas\u001b[0m \u001b[0msess\u001b[0m\u001b[1;33m:\u001b[0m\u001b[1;33m\u001b[0m\u001b[0m\n\u001b[1;32m     32\u001b[0m         \u001b[1;31m# Load model\u001b[0m\u001b[1;33m\u001b[0m\u001b[1;33m\u001b[0m\u001b[0m\n\u001b[0;32m---> 33\u001b[0;31m         \u001b[0mloader\u001b[0m \u001b[1;33m=\u001b[0m \u001b[0mtf\u001b[0m\u001b[1;33m.\u001b[0m\u001b[0mtrain\u001b[0m\u001b[1;33m.\u001b[0m\u001b[0mimport_meta_graph\u001b[0m\u001b[1;33m(\u001b[0m\u001b[0msave_model_path\u001b[0m \u001b[1;33m+\u001b[0m \u001b[1;34m'.meta'\u001b[0m\u001b[1;33m)\u001b[0m\u001b[1;33m\u001b[0m\u001b[0m\n\u001b[0m\u001b[1;32m     34\u001b[0m         \u001b[0mloader\u001b[0m\u001b[1;33m.\u001b[0m\u001b[0mrestore\u001b[0m\u001b[1;33m(\u001b[0m\u001b[0msess\u001b[0m\u001b[1;33m,\u001b[0m \u001b[0msave_model_path\u001b[0m\u001b[1;33m)\u001b[0m\u001b[1;33m\u001b[0m\u001b[0m\n\u001b[1;32m     35\u001b[0m \u001b[1;33m\u001b[0m\u001b[0m\n",
      "\u001b[0;32mD:\\ProgramData\\Anaconda3\\envs\\dlnd-tf-lab\\lib\\site-packages\\tensorflow\\python\\training\\saver.py\u001b[0m in \u001b[0;36mimport_meta_graph\u001b[0;34m(meta_graph_or_file, clear_devices, import_scope, **kwargs)\u001b[0m\n\u001b[1;32m   1568\u001b[0m   \"\"\"\n\u001b[1;32m   1569\u001b[0m   \u001b[1;32mif\u001b[0m \u001b[1;32mnot\u001b[0m \u001b[0misinstance\u001b[0m\u001b[1;33m(\u001b[0m\u001b[0mmeta_graph_or_file\u001b[0m\u001b[1;33m,\u001b[0m \u001b[0mmeta_graph_pb2\u001b[0m\u001b[1;33m.\u001b[0m\u001b[0mMetaGraphDef\u001b[0m\u001b[1;33m)\u001b[0m\u001b[1;33m:\u001b[0m\u001b[1;33m\u001b[0m\u001b[0m\n\u001b[0;32m-> 1570\u001b[0;31m     \u001b[0mmeta_graph_def\u001b[0m \u001b[1;33m=\u001b[0m \u001b[0mmeta_graph\u001b[0m\u001b[1;33m.\u001b[0m\u001b[0mread_meta_graph_file\u001b[0m\u001b[1;33m(\u001b[0m\u001b[0mmeta_graph_or_file\u001b[0m\u001b[1;33m)\u001b[0m\u001b[1;33m\u001b[0m\u001b[0m\n\u001b[0m\u001b[1;32m   1571\u001b[0m   \u001b[1;32melse\u001b[0m\u001b[1;33m:\u001b[0m\u001b[1;33m\u001b[0m\u001b[0m\n\u001b[1;32m   1572\u001b[0m     \u001b[0mmeta_graph_def\u001b[0m \u001b[1;33m=\u001b[0m \u001b[0mmeta_graph_or_file\u001b[0m\u001b[1;33m\u001b[0m\u001b[0m\n",
      "\u001b[0;32mD:\\ProgramData\\Anaconda3\\envs\\dlnd-tf-lab\\lib\\site-packages\\tensorflow\\python\\framework\\meta_graph.py\u001b[0m in \u001b[0;36mread_meta_graph_file\u001b[0;34m(filename)\u001b[0m\n\u001b[1;32m    400\u001b[0m   \u001b[0mmeta_graph_def\u001b[0m \u001b[1;33m=\u001b[0m \u001b[0mmeta_graph_pb2\u001b[0m\u001b[1;33m.\u001b[0m\u001b[0mMetaGraphDef\u001b[0m\u001b[1;33m(\u001b[0m\u001b[1;33m)\u001b[0m\u001b[1;33m\u001b[0m\u001b[0m\n\u001b[1;32m    401\u001b[0m   \u001b[1;32mif\u001b[0m \u001b[1;32mnot\u001b[0m \u001b[0mfile_io\u001b[0m\u001b[1;33m.\u001b[0m\u001b[0mfile_exists\u001b[0m\u001b[1;33m(\u001b[0m\u001b[0mfilename\u001b[0m\u001b[1;33m)\u001b[0m\u001b[1;33m:\u001b[0m\u001b[1;33m\u001b[0m\u001b[0m\n\u001b[0;32m--> 402\u001b[0;31m     \u001b[1;32mraise\u001b[0m \u001b[0mIOError\u001b[0m\u001b[1;33m(\u001b[0m\u001b[1;34m\"File %s does not exist.\"\u001b[0m \u001b[1;33m%\u001b[0m \u001b[0mfilename\u001b[0m\u001b[1;33m)\u001b[0m\u001b[1;33m\u001b[0m\u001b[0m\n\u001b[0m\u001b[1;32m    403\u001b[0m   \u001b[1;31m# First try to read it as a binary file.\u001b[0m\u001b[1;33m\u001b[0m\u001b[1;33m\u001b[0m\u001b[0m\n\u001b[1;32m    404\u001b[0m   \u001b[0mfile_content\u001b[0m \u001b[1;33m=\u001b[0m \u001b[0mfile_io\u001b[0m\u001b[1;33m.\u001b[0m\u001b[0mread_file_to_string\u001b[0m\u001b[1;33m(\u001b[0m\u001b[0mfilename\u001b[0m\u001b[1;33m)\u001b[0m\u001b[1;33m\u001b[0m\u001b[0m\n",
      "\u001b[0;31mOSError\u001b[0m: File ./image_classification.meta does not exist."
     ]
    }
   ],
   "source": [
    "\"\"\"\n",
    "DON'T MODIFY ANYTHING IN THIS CELL\n",
    "\"\"\"\n",
    "%matplotlib inline\n",
    "%config InlineBackend.figure_format = 'retina'\n",
    "\n",
    "import tensorflow as tf\n",
    "import pickle\n",
    "import helper\n",
    "import random\n",
    "\n",
    "# Set batch size if not already set\n",
    "try:\n",
    "    if batch_size:\n",
    "        pass\n",
    "except NameError:\n",
    "    batch_size = 64\n",
    "\n",
    "save_model_path = './image_classification'\n",
    "n_samples = 4\n",
    "top_n_predictions = 3\n",
    "\n",
    "def test_model():\n",
    "    \"\"\"\n",
    "    Test the saved model against the test dataset\n",
    "    \"\"\"\n",
    "\n",
    "    test_features, test_labels = pickle.load(open('preprocess_test.p', mode='rb'))\n",
    "    loaded_graph = tf.Graph()\n",
    "\n",
    "    with tf.Session(graph=loaded_graph) as sess:\n",
    "        # Load model\n",
    "        loader = tf.train.import_meta_graph(save_model_path + '.meta')\n",
    "        loader.restore(sess, save_model_path)\n",
    "\n",
    "        # Get Tensors from loaded model\n",
    "        loaded_x = loaded_graph.get_tensor_by_name('x:0')\n",
    "        loaded_y = loaded_graph.get_tensor_by_name('y:0')\n",
    "        loaded_keep_prob = loaded_graph.get_tensor_by_name('keep_prob:0')\n",
    "        loaded_logits = loaded_graph.get_tensor_by_name('logits:0')\n",
    "        loaded_acc = loaded_graph.get_tensor_by_name('accuracy:0')\n",
    "        \n",
    "        # Get accuracy in batches for memory limitations\n",
    "        test_batch_acc_total = 0\n",
    "        test_batch_count = 0\n",
    "        \n",
    "        for test_feature_batch, test_label_batch in helper.batch_features_labels(test_features, test_labels, batch_size):\n",
    "            test_batch_acc_total += sess.run(\n",
    "                loaded_acc,\n",
    "                feed_dict={loaded_x: test_feature_batch, loaded_y: test_label_batch, loaded_keep_prob: 1.0})\n",
    "            test_batch_count += 1\n",
    "\n",
    "        print('Testing Accuracy: {}\\n'.format(test_batch_acc_total/test_batch_count))\n",
    "\n",
    "        # Print Random Samples\n",
    "        random_test_features, random_test_labels = tuple(zip(*random.sample(list(zip(test_features, test_labels)), n_samples)))\n",
    "        random_test_predictions = sess.run(\n",
    "            tf.nn.top_k(tf.nn.softmax(loaded_logits), top_n_predictions),\n",
    "            feed_dict={loaded_x: random_test_features, loaded_y: random_test_labels, loaded_keep_prob: 1.0})\n",
    "        helper.display_image_predictions(random_test_features, random_test_labels, random_test_predictions)\n",
    "\n",
    "\n",
    "test_model()"
   ]
  },
  {
   "cell_type": "markdown",
   "metadata": {},
   "source": [
    "## 为何准确率只有50-80%？\n",
    "\n",
    "你可能想问，为何准确率不能更高了？首先，对于简单的 CNN 网络来说，50% 已经不低了。纯粹猜测的准确率为10%。但是，你可能注意到有人的准确率[远远超过 80%](http://rodrigob.github.io/are_we_there_yet/build/classification_datasets_results.html#43494641522d3130)。这是因为我们还没有介绍所有的神经网络知识。我们还需要掌握一些其他技巧。\n",
    "\n",
    "## 提交项目\n",
    "\n",
    "提交项目时，确保先运行所有单元，然后再保存记事本。将 notebook 文件另存为“dlnd_image_classification.ipynb”，再在目录 \"File\" -> \"Download as\" 另存为 HTML 格式。请在提交的项目中包含 “helper.py” 和 “problem_unittests.py” 文件。\n"
   ]
  }
 ],
 "metadata": {
  "kernelspec": {
   "display_name": "Python 3",
   "language": "python",
   "name": "python3"
  },
  "language_info": {
   "codemirror_mode": {
    "name": "ipython",
    "version": 3
   },
   "file_extension": ".py",
   "mimetype": "text/x-python",
   "name": "python",
   "nbconvert_exporter": "python",
   "pygments_lexer": "ipython3",
   "version": "3.5.2"
  }
 },
 "nbformat": 4,
 "nbformat_minor": 1
}
