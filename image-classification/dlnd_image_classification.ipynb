{
 "cells": [
  {
   "cell_type": "markdown",
   "metadata": {
    "collapsed": true
   },
   "source": [
    "# 图像分类\n",
    "\n",
    "在此项目中，你将对 [CIFAR-10 数据集](https://www.cs.toronto.edu/~kriz/cifar.html) 中的图片进行分类。该数据集包含飞机、猫狗和其他物体。你需要预处理这些图片，然后用所有样本训练一个卷积神经网络。图片需要标准化（normalized），标签需要采用 one-hot 编码。你需要应用所学的知识构建卷积的、最大池化（max pooling）、丢弃（dropout）和完全连接（fully connected）的层。最后，你需要在样本图片上看到神经网络的预测结果。\n",
    "\n",
    "\n",
    "## 获取数据\n",
    "\n",
    "请运行以下单元，以下载 [CIFAR-10 数据集（Python版）](https://www.cs.toronto.edu/~kriz/cifar-10-python.tar.gz)。\n"
   ]
  },
  {
   "cell_type": "code",
   "execution_count": 6,
   "metadata": {
    "collapsed": false
   },
   "outputs": [
    {
     "name": "stdout",
     "output_type": "stream",
     "text": [
      "Default GPU Device: /gpu:0\n"
     ]
    }
   ],
   "source": [
    "import tensorflow as tf \n",
    "import warnings \n",
    "\n",
    "if not tf.test.gpu_device_name(): \n",
    "    warnings.warn('No GPU found. Please use a GPU to train your neural network.') \n",
    "else: print('Default GPU Device: {}'.format(tf.test.gpu_device_name()))"
   ]
  },
  {
   "cell_type": "code",
   "execution_count": 7,
   "metadata": {
    "collapsed": false
   },
   "outputs": [
    {
     "name": "stdout",
     "output_type": "stream",
     "text": [
      "All files found!\n"
     ]
    }
   ],
   "source": [
    "\"\"\"\n",
    "DON'T MODIFY ANYTHING IN THIS CELL THAT IS BELOW THIS LINE\n",
    "\"\"\"\n",
    "from urllib.request import urlretrieve\n",
    "from os.path import isfile, isdir\n",
    "from tqdm import tqdm\n",
    "import problem_unittests as tests\n",
    "import tarfile\n",
    "\n",
    "cifar10_dataset_folder_path = 'cifar-10-batches-py'\n",
    "\n",
    "# Use Floyd's cifar-10 dataset if present\n",
    "floyd_cifar10_location = '/input/cifar-10/python.tar.gz'\n",
    "if isfile(floyd_cifar10_location):\n",
    "    tar_gz_path = floyd_cifar10_location\n",
    "else:\n",
    "    tar_gz_path = 'cifar-10-python.tar.gz'\n",
    "\n",
    "class DLProgress(tqdm):\n",
    "    last_block = 0\n",
    "\n",
    "    def hook(self, block_num=1, block_size=1, total_size=None):\n",
    "        self.total = total_size\n",
    "        self.update((block_num - self.last_block) * block_size)\n",
    "        self.last_block = block_num\n",
    "\n",
    "if not isfile(tar_gz_path):\n",
    "    with DLProgress(unit='B', unit_scale=True, miniters=1, desc='CIFAR-10 Dataset') as pbar:\n",
    "        urlretrieve(\n",
    "            'https://www.cs.toronto.edu/~kriz/cifar-10-python.tar.gz',\n",
    "            tar_gz_path,\n",
    "            pbar.hook)\n",
    "\n",
    "if not isdir(cifar10_dataset_folder_path):\n",
    "    with tarfile.open(tar_gz_path) as tar:\n",
    "        tar.extractall()\n",
    "        tar.close()\n",
    "\n",
    "\n",
    "tests.test_folder_path(cifar10_dataset_folder_path)"
   ]
  },
  {
   "cell_type": "markdown",
   "metadata": {},
   "source": [
    "## 探索数据\n",
    "\n",
    "该数据集分成了几部分／批次（batches），以免你的机器在计算时内存不足。CIFAR-10 数据集包含 5 个部分，名称分别为 `data_batch_1`、`data_batch_2`，以此类推。每个部分都包含以下某个类别的标签和图片：\n",
    "\n",
    "* 飞机\n",
    "* 汽车\n",
    "* 鸟类\n",
    "* 猫\n",
    "* 鹿\n",
    "* 狗\n",
    "* 青蛙\n",
    "* 马\n",
    "* 船只\n",
    "* 卡车\n",
    "\n",
    "了解数据集也是对数据进行预测的必经步骤。你可以通过更改 `batch_id` 和 `sample_id` 探索下面的代码单元。`batch_id` 是数据集一个部分的 ID（1 到 5）。`sample_id` 是该部分中图片和标签对（label pair）的 ID。\n",
    "\n",
    "问问你自己：“可能的标签有哪些？”、“图片数据的值范围是多少？”、“标签是按顺序排列，还是随机排列的？”。思考类似的问题，有助于你预处理数据，并使预测结果更准确。\n"
   ]
  },
  {
   "cell_type": "code",
   "execution_count": 8,
   "metadata": {
    "collapsed": false
   },
   "outputs": [
    {
     "name": "stdout",
     "output_type": "stream",
     "text": [
      "\n",
      "Stats of batch 3:\n",
      "Samples: 10000\n",
      "Label Counts: {0: 994, 1: 1042, 2: 965, 3: 997, 4: 990, 5: 1029, 6: 978, 7: 1015, 8: 961, 9: 1029}\n",
      "First 20 Labels: [8, 5, 0, 6, 9, 2, 8, 3, 6, 2, 7, 4, 6, 9, 0, 0, 7, 3, 7, 2]\n",
      "\n",
      "Example of Image 999:\n",
      "Image - Min Value: 1 Max Value: 238\n",
      "Image - Shape: (32, 32, 3)\n",
      "Label - Label Id: 8 Name: ship\n"
     ]
    },
    {
     "data": {
      "image/png": "[encoded data removed]",
      "text/plain": [
       "<matplotlib.figure.Figure at 0x23d166f1b70>"
      ]
     },
     "metadata": {
      "image/png": {
       "height": 250,
       "width": 253
      }
     },
     "output_type": "display_data"
    }
   ],
   "source": [
    "%matplotlib inline\n",
    "%config InlineBackend.figure_format = 'retina'\n",
    "\n",
    "import helper\n",
    "import numpy as np\n",
    "\n",
    "# Explore the dataset\n",
    "batch_id = 3\n",
    "sample_id = 999\n",
    "helper.display_stats(cifar10_dataset_folder_path, batch_id, sample_id)"
   ]
  },
  {
   "cell_type": "markdown",
   "metadata": {},
   "source": [
    "## 实现预处理函数\n",
    "\n",
    "### 标准化\n",
    "\n",
    "在下面的单元中，实现 `normalize` 函数，传入图片数据 `x`，并返回标准化 Numpy 数组。值应该在 0 到 1 的范围内（含 0 和 1）。返回对象应该和 `x` 的形状一样。\n"
   ]
  },
  {
   "cell_type": "code",
   "execution_count": 9,
   "metadata": {
    "collapsed": false
   },
   "outputs": [
    {
     "name": "stdout",
     "output_type": "stream",
     "text": [
      "Tests Passed\n"
     ]
    }
   ],
   "source": [
    "def normalize(x):\n",
    "    \"\"\"\n",
    "    Normalize a list of sample image data in the range of 0 to 1\n",
    "    : x: List of image data.  The image shape is (32, 32, 3)\n",
    "    : return: Numpy array of normalize data\n",
    "    \"\"\"\n",
    "    # TODO: Implement Function\n",
    "    a = 0\n",
    "    b = 255\n",
    "    return (x-a)/(b-a)\n",
    "\n",
    "\n",
    "\"\"\"\n",
    "DON'T MODIFY ANYTHING IN THIS CELL THAT IS BELOW THIS LINE\n",
    "\"\"\"\n",
    "tests.test_normalize(normalize)"
   ]
  },
  {
   "cell_type": "markdown",
   "metadata": {},
   "source": [
    "### One-hot 编码\n",
    "\n",
    "和之前的代码单元一样，你将为预处理实现一个函数。这次，你将实现 `one_hot_encode` 函数。输入，也就是 `x`，是一个标签列表。实现该函数，以返回为 one_hot 编码的 Numpy 数组的标签列表。标签的可能值为 0 到 9。每次调用 `one_hot_encode` 时，对于每个值，one_hot 编码函数应该返回相同的编码。确保将编码映射保存到该函数外面。\n",
    "\n",
    "提示：不要重复发明轮子。\n"
   ]
  },
  {
   "cell_type": "code",
   "execution_count": 5,
   "metadata": {
    "collapsed": false
   },
   "outputs": [
    {
     "name": "stdout",
     "output_type": "stream",
     "text": [
      "Tests Passed\n"
     ]
    }
   ],
   "source": [
    "def one_hot_encode(x):\n",
    "    \"\"\"\n",
    "    One hot encode a list of sample labels. Return a one-hot encoded vector for each label.\n",
    "    : x: List of sample Labels\n",
    "    : return: Numpy array of one-hot encoded labels\n",
    "    \"\"\"\n",
    "    # TODO: Implement Function\n",
    "    y = np.zeros((len(x),10))\n",
    "    for i in range(len(x)):\n",
    "        y[i,x[i]] = 1\n",
    "    return y\n",
    "\n",
    "\n",
    "\"\"\"\n",
    "DON'T MODIFY ANYTHING IN THIS CELL THAT IS BELOW THIS LINE\n",
    "\"\"\"\n",
    "tests.test_one_hot_encode(one_hot_encode)"
   ]
  },
  {
   "cell_type": "markdown",
   "metadata": {},
   "source": [
    "### 随机化数据\n",
    "\n",
    "之前探索数据时，你已经了解到，样本的顺序是随机的。再随机化一次也不会有什么关系，但是对于这个数据集没有必要。\n"
   ]
  },
  {
   "cell_type": "markdown",
   "metadata": {},
   "source": [
    "## 预处理所有数据并保存\n",
    "\n",
    "运行下方的代码单元，将预处理所有 CIFAR-10 数据，并保存到文件中。下面的代码还使用了 10% 的训练数据，用来验证。\n"
   ]
  },
  {
   "cell_type": "code",
   "execution_count": 2,
   "metadata": {
    "collapsed": false
   },
   "outputs": [
    {
     "ename": "NameError",
     "evalue": "name 'helper' is not defined",
     "output_type": "error",
     "traceback": [
      "\u001b[0;31m---------------------------------------------------------------------------\u001b[0m",
      "\u001b[0;31mNameError\u001b[0m                                 Traceback (most recent call last)",
      "\u001b[0;32m<ipython-input-2-2e43b03e04f3>\u001b[0m in \u001b[0;36m<module>\u001b[0;34m()\u001b[0m\n\u001b[1;32m      3\u001b[0m \"\"\"\n\u001b[1;32m      4\u001b[0m \u001b[1;31m# Preprocess Training, Validation, and Testing Data\u001b[0m\u001b[1;33m\u001b[0m\u001b[1;33m\u001b[0m\u001b[0m\n\u001b[0;32m----> 5\u001b[0;31m \u001b[0mhelper\u001b[0m\u001b[1;33m.\u001b[0m\u001b[0mpreprocess_and_save_data\u001b[0m\u001b[1;33m(\u001b[0m\u001b[0mcifar10_dataset_folder_path\u001b[0m\u001b[1;33m,\u001b[0m \u001b[0mnormalize\u001b[0m\u001b[1;33m,\u001b[0m \u001b[0mone_hot_encode\u001b[0m\u001b[1;33m)\u001b[0m\u001b[1;33m\u001b[0m\u001b[0m\n\u001b[0m",
      "\u001b[0;31mNameError\u001b[0m: name 'helper' is not defined"
     ]
    }
   ],
   "source": [
    "\"\"\"\n",
    "DON'T MODIFY ANYTHING IN THIS CELL\n",
    "\"\"\"\n",
    "# Preprocess Training, Validation, and Testing Data\n",
    "helper.preprocess_and_save_data(cifar10_dataset_folder_path, normalize, one_hot_encode)"
   ]
  },
  {
   "cell_type": "markdown",
   "metadata": {},
   "source": [
    "# 检查点\n",
    "\n",
    "这是你的第一个检查点。如果你什么时候决定再回到该记事本，或需要重新启动该记事本，你可以从这里开始。预处理的数据已保存到本地。\n"
   ]
  },
  {
   "cell_type": "code",
   "execution_count": 3,
   "metadata": {
    "collapsed": false
   },
   "outputs": [],
   "source": [
    "\"\"\"\n",
    "DON'T MODIFY ANYTHING IN THIS CELL\n",
    "\"\"\"\n",
    "import pickle\n",
    "import problem_unittests as tests\n",
    "import helper\n",
    "\n",
    "# Load the Preprocessed Validation data\n",
    "valid_features, valid_labels = pickle.load(open('preprocess_validation.p', mode='rb'))"
   ]
  },
  {
   "cell_type": "markdown",
   "metadata": {},
   "source": [
    "## 构建网络\n",
    "\n",
    "对于该神经网络，你需要将每层都构建为一个函数。你看到的大部分代码都位于函数外面。要更全面地测试你的代码，我们需要你将每层放入一个函数中。这样使我们能够提供更好的反馈，并使用我们的统一测试检测简单的错误，然后再提交项目。\n",
    "\n",
    ">**注意**：如果你觉得每周很难抽出足够的时间学习这门课程，我们为此项目提供了一个小捷径。对于接下来的几个问题，你可以使用 [TensorFlow Layers](https://www.tensorflow.org/api_docs/python/tf/layers) 或 [TensorFlow Layers (contrib)](https://www.tensorflow.org/api_guides/python/contrib.layers) 程序包中的类来构建每个层级，但是“卷积和最大池化层级”部分的层级除外。TF Layers 和 Keras 及 TFLearn 层级类似，因此很容易学会。\n",
    "\n",
    ">但是，如果你想充分利用这门课程，请尝试自己解决所有问题，不使用 TF Layers 程序包中的任何类。你依然可以使用其他程序包中的类，这些类和你在 TF Layers 中的类名称是一样的！例如，你可以使用 TF Neural Network 版本的 `conv2d` 类 [tf.nn.conv2d](https://www.tensorflow.org/api_docs/python/tf/nn/conv2d)，而不是 TF Layers 版本的 `conv2d` 类 [tf.layers.conv2d](https://www.tensorflow.org/api_docs/python/tf/layers/conv2d)。\n",
    "\n",
    "我们开始吧！\n",
    "\n",
    "\n",
    "### 输入\n",
    "\n",
    "神经网络需要读取图片数据、one-hot 编码标签和丢弃保留概率（dropout keep probability）。请实现以下函数：\n",
    "\n",
    "* 实现 `neural_net_image_input`\n",
    " * 返回 [TF Placeholder](https://www.tensorflow.org/api_docs/python/tf/placeholder)\n",
    " * 使用 `image_shape` 设置形状，部分大小设为 `None`\n",
    " * 使用 [TF Placeholder](https://www.tensorflow.org/api_docs/python/tf/placeholder) 中的 TensorFlow `name` 参数对 TensorFlow 占位符 \"x\" 命名\n",
    "* 实现 `neural_net_label_input`\n",
    " * 返回 [TF Placeholder](https://www.tensorflow.org/api_docs/python/tf/placeholder)\n",
    " * 使用 `n_classes` 设置形状，部分大小设为 `None`\n",
    " * 使用 [TF Placeholder](https://www.tensorflow.org/api_docs/python/tf/placeholder) 中的 TensorFlow `name` 参数对 TensorFlow 占位符 \"y\" 命名\n",
    "* 实现 `neural_net_keep_prob_input`\n",
    " * 返回 [TF Placeholder](https://www.tensorflow.org/api_docs/python/tf/placeholder)，用于丢弃保留概率\n",
    " * 使用 [TF Placeholder](https://www.tensorflow.org/api_docs/python/tf/placeholder) 中的 TensorFlow `name` 参数对 TensorFlow 占位符 \"keep_prob\" 命名\n",
    "\n",
    "这些名称将在项目结束时，用于加载保存的模型。\n",
    "\n",
    "注意：TensorFlow 中的 `None` 表示形状可以是动态大小。"
   ]
  },
  {
   "cell_type": "code",
   "execution_count": 4,
   "metadata": {
    "collapsed": false
   },
   "outputs": [
    {
     "name": "stdout",
     "output_type": "stream",
     "text": [
      "Image Input Tests Passed.\n",
      "Label Input Tests Passed.\n",
      "Keep Prob Tests Passed.\n"
     ]
    }
   ],
   "source": [
    "import tensorflow as tf\n",
    "\n",
    "def neural_net_image_input(image_shape):\n",
    "    \"\"\"\n",
    "    Return a Tensor for a batch of image input\n",
    "    : image_shape: Shape of the images\n",
    "    : return: Tensor for image input.\n",
    "    \"\"\"\n",
    "    # TODO: Implement Function\n",
    "    return tf.placeholder(tf.float32, [None] + list(image_shape), \"x\")\n",
    "\n",
    "\n",
    "def neural_net_label_input(n_classes):\n",
    "    \"\"\"\n",
    "    Return a Tensor for a batch of label input\n",
    "    : n_classes: Number of classes\n",
    "    : return: Tensor for label input.\n",
    "    \"\"\"\n",
    "    # TODO: Implement Function\n",
    "    return tf.placeholder(tf.float32, [None, n_classes], \"y\")\n",
    "\n",
    "\n",
    "def neural_net_keep_prob_input():\n",
    "    \"\"\"\n",
    "    Return a Tensor for keep probability\n",
    "    : return: Tensor for keep probability.\n",
    "    \"\"\"\n",
    "    # TODO: Implement Function\n",
    "    return tf.placeholder(tf.float32, None, \"keep_prob\")\n",
    "\n",
    "\n",
    "\"\"\"\n",
    "DON'T MODIFY ANYTHING IN THIS CELL THAT IS BELOW THIS LINE\n",
    "\"\"\"\n",
    "tf.reset_default_graph()\n",
    "tests.test_nn_image_inputs(neural_net_image_input)\n",
    "tests.test_nn_label_inputs(neural_net_label_input)\n",
    "tests.test_nn_keep_prob_inputs(neural_net_keep_prob_input)"
   ]
  },
  {
   "cell_type": "markdown",
   "metadata": {},
   "source": [
    "### 卷积和最大池化层\n",
    "\n",
    "卷积层级适合处理图片。对于此代码单元，你应该实现函数 `conv2d_maxpool` 以便应用卷积然后进行最大池化：\n",
    "\n",
    "* 使用 `conv_ksize`、`conv_num_outputs` 和 `x_tensor` 的形状创建权重（weight）和偏置（bias）。\n",
    "* 使用权重和 `conv_strides` 对 `x_tensor` 应用卷积。\n",
    " * 建议使用我们建议的间距（padding），当然也可以使用任何其他间距。\n",
    "* 添加偏置\n",
    "* 向卷积中添加非线性激活（nonlinear activation）\n",
    "* 使用 `pool_ksize` 和 `pool_strides` 应用最大池化\n",
    " * 建议使用我们建议的间距（padding），当然也可以使用任何其他间距。\n",
    "\n",
    "**注意**：对于**此层**，**请勿使用** [TensorFlow Layers](https://www.tensorflow.org/api_docs/python/tf/layers) 或 [TensorFlow Layers (contrib)](https://www.tensorflow.org/api_guides/python/contrib.layers)，但是仍然可以使用 TensorFlow 的 [Neural Network](https://www.tensorflow.org/api_docs/python/tf/nn) 包。对于所有**其他层**，你依然可以使用快捷方法。\n"
   ]
  },
  {
   "cell_type": "code",
   "execution_count": 5,
   "metadata": {
    "collapsed": false
   },
   "outputs": [
    {
     "name": "stdout",
     "output_type": "stream",
     "text": [
      "Tests Passed\n"
     ]
    }
   ],
   "source": [
    "def conv2d_maxpool(x_tensor, conv_num_outputs, conv_ksize, conv_strides, pool_ksize, pool_strides):\n",
    "    \"\"\"\n",
    "    Apply convolution then max pooling to x_tensor\n",
    "    :param x_tensor: TensorFlow Tensor\n",
    "    :param conv_num_outputs: Number of outputs for the convolutional layer\n",
    "    :param conv_ksize: kernal size 2-D Tuple for the convolutional layer\n",
    "    :param conv_strides: Stride 2-D Tuple for convolution\n",
    "    :param pool_ksize: kernal size 2-D Tuple for pool\n",
    "    :param pool_strides: Stride 2-D Tuple for pool\n",
    "    : return: A tensor that represents convolution and max pooling of x_tensor\n",
    "    \"\"\"\n",
    "    # TODO: Implement Function\n",
    "    dimension = x_tensor.get_shape().as_list()\n",
    "    shape = list(conv_ksize + (dimension[-1], )+(conv_num_outputs, ))\n",
    "    \n",
    "    filter_weights = tf.Variable(tf.truncated_normal(shape, 0, 0.1))\n",
    "    filter_bias = tf.Variable(tf.zeros(conv_num_outputs))\n",
    "    padding = 'SAME'\n",
    "    \n",
    "    conv_layer = tf.nn.conv2d(x_tensor, filter_weights, list((1, )+conv_strides+(1, )), padding)\n",
    "    conv_layer = tf.nn.bias_add(conv_layer, filter_bias)\n",
    "    conv_layer = tf.nn.relu(conv_layer)\n",
    "    conv_layer = tf.nn.max_pool(conv_layer, ksize = [1]+list(pool_ksize)+[1], strides=[1]+list(pool_ksize)+[1], padding='SAME')\n",
    "    \n",
    "    \n",
    "    return conv_layer\n",
    "\n",
    "\n",
    "\"\"\"\n",
    "DON'T MODIFY ANYTHING IN THIS CELL THAT IS BELOW THIS LINE\n",
    "\"\"\"\n",
    "tests.test_con_pool(conv2d_maxpool)"
   ]
  },
  {
   "cell_type": "markdown",
   "metadata": {},
   "source": [
    "### 扁平化层\n",
    "\n",
    "实现 `flatten` 函数，将 `x_tensor` 的维度从四维张量（4-D tensor）变成二维张量。输出应该是形状（*部分大小（Batch Size）*，*扁平化图片大小（Flattened Image Size）*）。快捷方法：对于此层，你可以使用 [TensorFlow Layers](https://www.tensorflow.org/api_docs/python/tf/layers) 或 [TensorFlow Layers (contrib)](https://www.tensorflow.org/api_guides/python/contrib.layers) 包中的类。如果你想要更大挑战，可以仅使用其他 TensorFlow 程序包。\n"
   ]
  },
  {
   "cell_type": "code",
   "execution_count": 6,
   "metadata": {
    "collapsed": false
   },
   "outputs": [
    {
     "name": "stdout",
     "output_type": "stream",
     "text": [
      "Tests Passed\n"
     ]
    }
   ],
   "source": [
    "from numpy import prod\n",
    "def flatten(x_tensor):\n",
    "    \"\"\"\n",
    "    Flatten x_tensor to (Batch Size, Flattened Image Size)\n",
    "    : x_tensor: A tensor of size (Batch Size, ...), where ... are the image dimensions.\n",
    "    : return: A tensor of size (Batch Size, Flattened Image Size).\n",
    "    \"\"\"\n",
    "    # TODO: Implement Function\n",
    "    dimension = x_tensor.get_shape().as_list()\n",
    "    return tf.reshape(x_tensor, [-1, prod(dimension [1: ] )])\n",
    "\n",
    "\n",
    "\"\"\"\n",
    "DON'T MODIFY ANYTHING IN THIS CELL THAT IS BELOW THIS LINE\n",
    "\"\"\"\n",
    "tests.test_flatten(flatten)"
   ]
  },
  {
   "cell_type": "markdown",
   "metadata": {},
   "source": [
    "### 完全连接的层\n",
    "\n",
    "实现 `fully_conn` 函数，以向 `x_tensor` 应用完全连接的层级，形状为（*部分大小（Batch Size）*，*num_outputs*）。快捷方法：对于此层，你可以使用 [TensorFlow Layers](https://www.tensorflow.org/api_docs/python/tf/layers) 或 [TensorFlow Layers (contrib)](https://www.tensorflow.org/api_guides/python/contrib.layers) 包中的类。如果你想要更大挑战，可以仅使用其他 TensorFlow 程序包。"
   ]
  },
  {
   "cell_type": "code",
   "execution_count": 7,
   "metadata": {
    "collapsed": false
   },
   "outputs": [
    {
     "name": "stdout",
     "output_type": "stream",
     "text": [
      "Tests Passed\n"
     ]
    }
   ],
   "source": [
    "def fully_conn(x_tensor, num_outputs):\n",
    "    \"\"\"\n",
    "    Apply a fully connected layer to x_tensor using weight and bias\n",
    "    : x_tensor: A 2-D tensor where the first dimension is batch size.\n",
    "    : num_outputs: The number of output that the new tensor should be.\n",
    "    : return: A 2-D tensor where the second dimension is num_outputs.\n",
    "    \"\"\"\n",
    "    # TODO: Implement Function\n",
    "    dimension = x_tensor.get_shape().as_list()\n",
    "    shape = list ((dimension[-1], )+(num_outputs, ) )\n",
    "\n",
    "    weight = tf.Variable(tf.truncated_normal (shape, 0, 0.1))\n",
    "    bias = tf.Variable(tf.zeros(num_outputs))\n",
    "\n",
    "    return tf.nn.relu(tf.add(tf.matmul(x_tensor,weight), bias))\n",
    "\n",
    "\n",
    "\"\"\"\n",
    "DON'T MODIFY ANYTHING IN THIS CELL THAT IS BELOW THIS LINE\n",
    "\"\"\"\n",
    "tests.test_fully_conn(fully_conn)"
   ]
  },
  {
   "cell_type": "markdown",
   "metadata": {},
   "source": [
    "### 输出层\n",
    "\n",
    "实现 `output` 函数，向 x_tensor 应用完全连接的层级，形状为（*部分大小（Batch Size）*，*num_outputs*）。快捷方法：对于此层，你可以使用 [TensorFlow Layers](https://www.tensorflow.org/api_docs/python/tf/layers) 或 [TensorFlow Layers (contrib)](https://www.tensorflow.org/api_guides/python/contrib.layers) 包中的类。如果你想要更大挑战，可以仅使用其他 TensorFlow 程序包。\n",
    "\n",
    "**注意**：该层级不应应用 Activation、softmax 或交叉熵（cross entropy）。"
   ]
  },
  {
   "cell_type": "code",
   "execution_count": 8,
   "metadata": {
    "collapsed": false
   },
   "outputs": [
    {
     "name": "stdout",
     "output_type": "stream",
     "text": [
      "Tests Passed\n"
     ]
    }
   ],
   "source": [
    "def output(x_tensor, num_outputs):\n",
    "    \"\"\"\n",
    "    Apply a output layer to x_tensor using weight and bias\n",
    "    : x_tensor: A 2-D tensor where the first dimension is batch size.\n",
    "    : num_outputs: The number of output that the new tensor should be.\n",
    "    : return: A 2-D tensor where the second dimension is num_outputs.\n",
    "    \"\"\"\n",
    "    # TODO: Implement Function\n",
    "    dimension = x_tensor.get_shape().as_list()\n",
    "    shape = list((dimension[-1], ) + (num_outputs, ))\n",
    "\n",
    "    weight = tf.Variable(tf.truncated_normal (shape, 0, 0.1))\n",
    "    bias = tf.Variable(tf.zeros(num_outputs))\n",
    "    \n",
    "    return tf.add(tf.matmul(x_tensor,weight), bias)\n",
    "\n",
    "\n",
    "\"\"\"\n",
    "DON'T MODIFY ANYTHING IN THIS CELL THAT IS BELOW THIS LINE\n",
    "\"\"\"\n",
    "tests.test_output(output)"
   ]
  },
  {
   "cell_type": "markdown",
   "metadata": {},
   "source": [
    "### 创建卷积模型\n",
    "\n",
    "实现函数 `conv_net`， 创建卷积神经网络模型。该函数传入一批图片 `x`，并输出对数（logits）。使用你在上方创建的层创建此模型：\n",
    "\n",
    "* 应用 1、2 或 3 个卷积和最大池化层（Convolution and Max Pool layers）\n",
    "* 应用一个扁平层（Flatten Layer）\n",
    "* 应用 1、2 或 3 个完全连接层（Fully Connected Layers）\n",
    "* 应用一个输出层（Output Layer）\n",
    "* 返回输出\n",
    "* 使用 `keep_prob` 向模型中的一个或多个层应用 [TensorFlow 的 Dropout](https://www.tensorflow.org/api_docs/python/tf/nn/dropout)"
   ]
  },
  {
   "cell_type": "code",
   "execution_count": 20,
   "metadata": {
    "collapsed": false
   },
   "outputs": [
    {
     "name": "stdout",
     "output_type": "stream",
     "text": [
      "Neural Network Built!\n"
     ]
    }
   ],
   "source": [
    "def conv_net(x, keep_prob):\n",
    "    \"\"\"\n",
    "    Create a convolutional neural network model\n",
    "    : x: Placeholder tensor that holds image data.\n",
    "    : keep_prob: Placeholder tensor that hold dropout keep probability.\n",
    "    : return: Tensor that represents logits\n",
    "    \"\"\"\n",
    "    # TODO: Apply 1, 2, or 3 Convolution and Max Pool layers\n",
    "    #    Play around with different number of outputs, kernel size and stride\n",
    "    # Function Definition from Above:\n",
    "    #    conv2d_maxpool(x_tensor, conv_num_outputs, conv_ksize, conv_strides, pool_ksize, pool_strides)\n",
    "    cnn = conv2d_maxpool(\n",
    "    x, conv_num_outputs = 64,\n",
    "        conv_ksize = (8,8), conv_strides = (1,1),\n",
    "        pool_ksize = (2,2), pool_strides = (1,1)\n",
    "    )\n",
    "\n",
    "    cnn = tf.nn.dropout (cnn, keep_prob)\n",
    "    \n",
    "    cnn = conv2d_maxpool(\n",
    "    x, conv_num_outputs = 64,\n",
    "        conv_ksize = (8,8), conv_strides = (1,1),\n",
    "        pool_ksize = (2,2), pool_strides = (1,1)\n",
    "    )\n",
    "\n",
    "    cnn = tf.nn.dropout (cnn, keep_prob)\n",
    "    # TODO: Apply a Flatten Layer\n",
    "    # Function Definition from Above:\n",
    "    #   flatten(x_tensor)\n",
    "    cnn = flatten(cnn)\n",
    "    \n",
    "    # TODO: Apply 1, 2, or 3 Fully Connected Layers\n",
    "    #    Play around with different number of outputs\n",
    "    # Function Definition from Above:\n",
    "    #   fully_conn(x_tensor, num_outputs)\n",
    "    cnn  = fully_conn(cnn, 338)\n",
    "    cnn  = fully_conn(cnn, 169)\n",
    "\n",
    "    cnn = tf.nn.dropout(cnn, keep_prob)\n",
    "\n",
    "    # TODO: Apply an Output Layer\n",
    "    #    Set this to the number of classes\n",
    "    # Function Definition from Above:\n",
    "    #   output(x_tensor, num_outputs)\n",
    "    cnn = output(cnn, 10)\n",
    "    # TODO: return output\n",
    "    return cnn\n",
    "\n",
    "\n",
    "\"\"\"\n",
    "DON'T MODIFY ANYTHING IN THIS CELL THAT IS BELOW THIS LINE\n",
    "\"\"\"\n",
    "\n",
    "##############################\n",
    "## Build the Neural Network ##\n",
    "##############################\n",
    "\n",
    "# Remove previous weights, bias, inputs, etc..\n",
    "tf.reset_default_graph()\n",
    "\n",
    "# Inputs\n",
    "x = neural_net_image_input((32, 32, 3))\n",
    "y = neural_net_label_input(10)\n",
    "keep_prob = neural_net_keep_prob_input()\n",
    "\n",
    "# Model\n",
    "logits = conv_net(x, keep_prob)\n",
    "\n",
    "# Name logits Tensor, so that is can be loaded from disk after training\n",
    "logits = tf.identity(logits, name='logits')\n",
    "\n",
    "# Loss and Optimizer\n",
    "cost = tf.reduce_mean(tf.nn.softmax_cross_entropy_with_logits(logits=logits, labels=y))\n",
    "optimizer = tf.train.AdamOptimizer().minimize(cost)\n",
    "\n",
    "# Accuracy\n",
    "correct_pred = tf.equal(tf.argmax(logits, 1), tf.argmax(y, 1))\n",
    "accuracy = tf.reduce_mean(tf.cast(correct_pred, tf.float32), name='accuracy')\n",
    "\n",
    "tests.test_conv_net(conv_net)"
   ]
  },
  {
   "cell_type": "markdown",
   "metadata": {},
   "source": [
    "## 训练神经网络\n",
    "\n",
    "### 单次优化\n",
    "\n",
    "实现函数 `train_neural_network` 以进行单次优化（single optimization）。该优化应该使用 `optimizer` 优化 `session`，其中 `feed_dict` 具有以下参数：\n",
    "\n",
    "* `x` 表示图片输入\n",
    "* `y` 表示标签\n",
    "* `keep_prob` 表示丢弃的保留率\n",
    "\n",
    "每个部分都会调用该函数，所以 `tf.global_variables_initializer()` 已经被调用。\n",
    "\n",
    "注意：不需要返回任何内容。该函数只是用来优化神经网络。\n"
   ]
  },
  {
   "cell_type": "code",
   "execution_count": 21,
   "metadata": {
    "collapsed": false
   },
   "outputs": [
    {
     "name": "stdout",
     "output_type": "stream",
     "text": [
      "Tests Passed\n"
     ]
    }
   ],
   "source": [
    "def train_neural_network(session, optimizer, keep_probability, feature_batch, label_batch):\n",
    "    \"\"\"\n",
    "    Optimize the session on a batch of images and labels\n",
    "    : session: Current TensorFlow session\n",
    "    : optimizer: TensorFlow optimizer function\n",
    "    : keep_probability: keep probability\n",
    "    : feature_batch: Batch of Numpy image data\n",
    "    : label_batch: Batch of Numpy label data\n",
    "    \"\"\"\n",
    "    # TODO: Implement Function\n",
    "    session.run (\n",
    "    optimizer, feed_dict = {\n",
    "        x:feature_batch,\n",
    "        y:label_batch,\n",
    "        keep_prob:keep_probability\n",
    "        \n",
    "    }\n",
    "    \n",
    "    )\n",
    "\n",
    "\n",
    "\"\"\"\n",
    "DON'T MODIFY ANYTHING IN THIS CELL THAT IS BELOW THIS LINE\n",
    "\"\"\"\n",
    "tests.test_train_nn(train_neural_network)"
   ]
  },
  {
   "cell_type": "markdown",
   "metadata": {},
   "source": [
    "### 显示数据\n",
    "\n",
    "实现函数 `print_stats` 以输出损失和验证准确率。使用全局变量 `valid_features` 和 `valid_labels` 计算验证准确率。使用保留率 `1.0` 计算损失和验证准确率（loss and validation accuracy）。\n"
   ]
  },
  {
   "cell_type": "code",
   "execution_count": 22,
   "metadata": {
    "collapsed": true
   },
   "outputs": [],
   "source": [
    "def print_stats(session, feature_batch, label_batch, cost, accuracy):\n",
    "    \"\"\"\n",
    "    Print information about loss and validation accuracy\n",
    "    : session: Current TensorFlow session\n",
    "    : feature_batch: Batch of Numpy image data\n",
    "    : label_batch: Batch of Numpy label data\n",
    "    : cost: TensorFlow cost function\n",
    "    : accuracy: TensorFlow accuracy function\n",
    "    \"\"\"\n",
    "    # TODO: Implement Function\n",
    "    loss = session.run(cost, feed_dict = {\n",
    "                          x:feature_batch,\n",
    "                          y:label_batch,\n",
    "                          keep_prob:1.0                        \n",
    "                      })\n",
    "    valid_acc = sess.run(accuracy, feed_dict = {\n",
    "        x:valid_features,\n",
    "        y:valid_labels,\n",
    "        keep_prob:1        \n",
    "    })\n",
    "    print('Loss: {:.4f} Validation Accuracy: {:.4f}'.format(loss, valid_acc))"
   ]
  },
  {
   "cell_type": "markdown",
   "metadata": {},
   "source": [
    "### 超参数\n",
    "\n",
    "调试以下超参数：\n",
    "* 设置 `epochs` 表示神经网络停止学习或开始过拟合的迭代次数\n",
    "* 设置 `batch_size`，表示机器内存允许的部分最大体积。大部分人设为以下常见内存大小：\n",
    "\n",
    " * 64\n",
    " * 128\n",
    " * 256\n",
    " * ...\n",
    "* 设置 `keep_probability` 表示使用丢弃时保留节点的概率"
   ]
  },
  {
   "cell_type": "code",
   "execution_count": 23,
   "metadata": {
    "collapsed": true
   },
   "outputs": [],
   "source": [
    "# TODO: Tune Parameters\n",
    "epochs = 50\n",
    "batch_size = 512\n",
    "keep_probability = 0.2"
   ]
  },
  {
   "cell_type": "markdown",
   "metadata": {},
   "source": [
    "### 在单个 CIFAR-10 部分上训练\n",
    "\n",
    "我们先用单个部分，而不是用所有的 CIFAR-10 批次训练神经网络。这样可以节省时间，并对模型进行迭代，以提高准确率。最终验证准确率达到 50% 或以上之后，在下一部分对所有数据运行模型。\n"
   ]
  },
  {
   "cell_type": "code",
   "execution_count": 24,
   "metadata": {
    "collapsed": false
   },
   "outputs": [
    {
     "name": "stdout",
     "output_type": "stream",
     "text": [
      "Checking the Training on a Single Batch...\n",
      "Epoch  1, CIFAR-10 Batch 1:  Loss: 2.2977 Validation Accuracy: 0.1128\n",
      "Epoch  2, CIFAR-10 Batch 1:  Loss: 2.3014 Validation Accuracy: 0.1230\n",
      "Epoch  3, CIFAR-10 Batch 1:  Loss: 2.3012 Validation Accuracy: 0.1284\n",
      "Epoch  4, CIFAR-10 Batch 1:  Loss: 2.3016 Validation Accuracy: 0.1352\n",
      "Epoch  5, CIFAR-10 Batch 1:  Loss: 2.3016 Validation Accuracy: 0.1328\n",
      "Epoch  6, CIFAR-10 Batch 1:  Loss: 2.2776 Validation Accuracy: 0.1678\n",
      "Epoch  7, CIFAR-10 Batch 1:  Loss: 2.2625 Validation Accuracy: 0.1812\n",
      "Epoch  8, CIFAR-10 Batch 1:  Loss: 2.2257 Validation Accuracy: 0.1808\n",
      "Epoch  9, CIFAR-10 Batch 1:  Loss: 2.2001 Validation Accuracy: 0.2012\n",
      "Epoch 10, CIFAR-10 Batch 1:  Loss: 2.1633 Validation Accuracy: 0.2182\n",
      "Epoch 11, CIFAR-10 Batch 1:  Loss: 2.1329 Validation Accuracy: 0.2338\n",
      "Epoch 12, CIFAR-10 Batch 1:  Loss: 2.0986 Validation Accuracy: 0.2514\n",
      "Epoch 13, CIFAR-10 Batch 1:  Loss: 2.0884 Validation Accuracy: 0.2624\n",
      "Epoch 14, CIFAR-10 Batch 1:  Loss: 2.0741 Validation Accuracy: 0.2644\n",
      "Epoch 15, CIFAR-10 Batch 1:  Loss: 2.0890 Validation Accuracy: 0.2424\n",
      "Epoch 16, CIFAR-10 Batch 1:  Loss: 2.0340 Validation Accuracy: 0.2856\n",
      "Epoch 17, CIFAR-10 Batch 1:  Loss: 2.0097 Validation Accuracy: 0.2820\n",
      "Epoch 18, CIFAR-10 Batch 1:  Loss: 1.9661 Validation Accuracy: 0.2942\n",
      "Epoch 19, CIFAR-10 Batch 1:  Loss: 1.9507 Validation Accuracy: 0.2968\n",
      "Epoch 20, CIFAR-10 Batch 1:  Loss: 1.9226 Validation Accuracy: 0.3232\n",
      "Epoch 21, CIFAR-10 Batch 1:  Loss: 1.9066 Validation Accuracy: 0.3262\n",
      "Epoch 22, CIFAR-10 Batch 1:  Loss: 1.8885 Validation Accuracy: 0.3138\n",
      "Epoch 23, CIFAR-10 Batch 1:  Loss: 1.8596 Validation Accuracy: 0.3378\n",
      "Epoch 24, CIFAR-10 Batch 1:  Loss: 1.8446 Validation Accuracy: 0.3304\n",
      "Epoch 25, CIFAR-10 Batch 1:  Loss: 1.8386 Validation Accuracy: 0.3440\n",
      "Epoch 26, CIFAR-10 Batch 1:  Loss: 1.8020 Validation Accuracy: 0.3436\n",
      "Epoch 27, CIFAR-10 Batch 1:  Loss: 1.7865 Validation Accuracy: 0.3484\n",
      "Epoch 28, CIFAR-10 Batch 1:  Loss: 1.7451 Validation Accuracy: 0.3674\n",
      "Epoch 29, CIFAR-10 Batch 1:  Loss: 1.7523 Validation Accuracy: 0.3608\n",
      "Epoch 30, CIFAR-10 Batch 1:  Loss: 1.7389 Validation Accuracy: 0.3716\n",
      "Epoch 31, CIFAR-10 Batch 1:  Loss: 1.7285 Validation Accuracy: 0.3686\n",
      "Epoch 32, CIFAR-10 Batch 1:  Loss: 1.6913 Validation Accuracy: 0.3820\n",
      "Epoch 33, CIFAR-10 Batch 1:  Loss: 1.6816 Validation Accuracy: 0.3856\n",
      "Epoch 34, CIFAR-10 Batch 1:  Loss: 1.6754 Validation Accuracy: 0.3880\n",
      "Epoch 35, CIFAR-10 Batch 1:  Loss: 1.6890 Validation Accuracy: 0.3790\n",
      "Epoch 36, CIFAR-10 Batch 1:  Loss: 1.6444 Validation Accuracy: 0.3942\n",
      "Epoch 37, CIFAR-10 Batch 1:  Loss: 1.6584 Validation Accuracy: 0.3890\n",
      "Epoch 38, CIFAR-10 Batch 1:  Loss: 1.6305 Validation Accuracy: 0.4008\n",
      "Epoch 39, CIFAR-10 Batch 1:  Loss: 1.5962 Validation Accuracy: 0.4110\n",
      "Epoch 40, CIFAR-10 Batch 1:  Loss: 1.6113 Validation Accuracy: 0.4064\n",
      "Epoch 41, CIFAR-10 Batch 1:  Loss: 1.6336 Validation Accuracy: 0.4008\n",
      "Epoch 42, CIFAR-10 Batch 1:  Loss: 1.5545 Validation Accuracy: 0.4184\n",
      "Epoch 43, CIFAR-10 Batch 1:  Loss: 1.5698 Validation Accuracy: 0.4094\n",
      "Epoch 44, CIFAR-10 Batch 1:  Loss: 1.5453 Validation Accuracy: 0.4252\n",
      "Epoch 45, CIFAR-10 Batch 1:  Loss: 1.5524 Validation Accuracy: 0.4188\n",
      "Epoch 46, CIFAR-10 Batch 1:  Loss: 1.5216 Validation Accuracy: 0.4196\n",
      "Epoch 47, CIFAR-10 Batch 1:  Loss: 1.5200 Validation Accuracy: 0.4118\n",
      "Epoch 48, CIFAR-10 Batch 1:  Loss: 1.4976 Validation Accuracy: 0.4354\n",
      "Epoch 49, CIFAR-10 Batch 1:  Loss: 1.4844 Validation Accuracy: 0.4344\n",
      "Epoch 50, CIFAR-10 Batch 1:  Loss: 1.5160 Validation Accuracy: 0.4334\n"
     ]
    }
   ],
   "source": [
    "\"\"\"\n",
    "DON'T MODIFY ANYTHING IN THIS CELL\n",
    "\"\"\"\n",
    "\n",
    "print('Checking the Training on a Single Batch...')\n",
    "\n",
    "with tf.Session() as sess:\n",
    "    # Initializing the variables\n",
    "    sess.run(tf.global_variables_initializer())\n",
    "    \n",
    "    # Training cycle\n",
    "    for epoch in range(epochs):\n",
    "        batch_i = 1\n",
    "        for batch_features, batch_labels in helper.load_preprocess_training_batch(batch_i, batch_size):\n",
    "            train_neural_network(sess, optimizer, keep_probability, batch_features, batch_labels)\n",
    "        print('Epoch {:>2}, CIFAR-10 Batch {}:  '.format(epoch + 1, batch_i), end='')\n",
    "        print_stats(sess, batch_features, batch_labels, cost, accuracy)"
   ]
  },
  {
   "cell_type": "markdown",
   "metadata": {},
   "source": [
    "### 完全训练模型\n",
    "\n",
    "现在，单个 CIFAR-10 部分的准确率已经不错了，试试所有五个部分吧。"
   ]
  },
  {
   "cell_type": "code",
   "execution_count": 25,
   "metadata": {
    "collapsed": false
   },
   "outputs": [
    {
     "name": "stdout",
     "output_type": "stream",
     "text": [
      "Training...\n",
      "Epoch  1, CIFAR-10 Batch 1:  Loss: 2.2956 Validation Accuracy: 0.1132\n",
      "Epoch  1, CIFAR-10 Batch 2:  Loss: 2.3023 Validation Accuracy: 0.1034\n",
      "Epoch  1, CIFAR-10 Batch 3:  Loss: 2.3022 Validation Accuracy: 0.1132\n",
      "Epoch  1, CIFAR-10 Batch 4:  Loss: 2.3002 Validation Accuracy: 0.1202\n",
      "Epoch  1, CIFAR-10 Batch 5:  Loss: 2.2982 Validation Accuracy: 0.1354\n",
      "Epoch  2, CIFAR-10 Batch 1:  Loss: 2.2948 Validation Accuracy: 0.1686\n",
      "Epoch  2, CIFAR-10 Batch 2:  Loss: 2.2885 Validation Accuracy: 0.1818\n",
      "Epoch  2, CIFAR-10 Batch 3:  Loss: 2.2714 Validation Accuracy: 0.2244\n",
      "Epoch  2, CIFAR-10 Batch 4:  Loss: 2.2396 Validation Accuracy: 0.2176\n",
      "Epoch  2, CIFAR-10 Batch 5:  Loss: 2.2171 Validation Accuracy: 0.2414\n",
      "Epoch  3, CIFAR-10 Batch 1:  Loss: 2.1944 Validation Accuracy: 0.2236\n",
      "Epoch  3, CIFAR-10 Batch 2:  Loss: 2.1475 Validation Accuracy: 0.2622\n",
      "Epoch  3, CIFAR-10 Batch 3:  Loss: 2.1530 Validation Accuracy: 0.2480\n",
      "Epoch  3, CIFAR-10 Batch 4:  Loss: 2.0715 Validation Accuracy: 0.2858\n",
      "Epoch  3, CIFAR-10 Batch 5:  Loss: 2.0684 Validation Accuracy: 0.2908\n",
      "Epoch  4, CIFAR-10 Batch 1:  Loss: 2.0811 Validation Accuracy: 0.2678\n",
      "Epoch  4, CIFAR-10 Batch 2:  Loss: 2.0289 Validation Accuracy: 0.2734\n",
      "Epoch  4, CIFAR-10 Batch 3:  Loss: 1.9653 Validation Accuracy: 0.2870\n",
      "Epoch  4, CIFAR-10 Batch 4:  Loss: 1.9227 Validation Accuracy: 0.2910\n",
      "Epoch  4, CIFAR-10 Batch 5:  Loss: 1.9353 Validation Accuracy: 0.2844\n",
      "Epoch  5, CIFAR-10 Batch 1:  Loss: 1.9621 Validation Accuracy: 0.3042\n",
      "Epoch  5, CIFAR-10 Batch 2:  Loss: 1.9079 Validation Accuracy: 0.3060\n",
      "Epoch  5, CIFAR-10 Batch 3:  Loss: 1.8459 Validation Accuracy: 0.3184\n",
      "Epoch  5, CIFAR-10 Batch 4:  Loss: 1.8244 Validation Accuracy: 0.3228\n",
      "Epoch  5, CIFAR-10 Batch 5:  Loss: 1.8369 Validation Accuracy: 0.3326\n",
      "Epoch  6, CIFAR-10 Batch 1:  Loss: 1.8970 Validation Accuracy: 0.3474\n",
      "Epoch  6, CIFAR-10 Batch 2:  Loss: 1.8507 Validation Accuracy: 0.3358\n",
      "Epoch  6, CIFAR-10 Batch 3:  Loss: 1.7517 Validation Accuracy: 0.3386\n",
      "Epoch  6, CIFAR-10 Batch 4:  Loss: 1.7266 Validation Accuracy: 0.3620\n",
      "Epoch  6, CIFAR-10 Batch 5:  Loss: 1.7881 Validation Accuracy: 0.3638\n",
      "Epoch  7, CIFAR-10 Batch 1:  Loss: 1.8238 Validation Accuracy: 0.3766\n",
      "Epoch  7, CIFAR-10 Batch 2:  Loss: 1.8265 Validation Accuracy: 0.3560\n",
      "Epoch  7, CIFAR-10 Batch 3:  Loss: 1.6984 Validation Accuracy: 0.3754\n",
      "Epoch  7, CIFAR-10 Batch 4:  Loss: 1.6456 Validation Accuracy: 0.3846\n",
      "Epoch  7, CIFAR-10 Batch 5:  Loss: 1.7164 Validation Accuracy: 0.3872\n",
      "Epoch  8, CIFAR-10 Batch 1:  Loss: 1.7823 Validation Accuracy: 0.3958\n",
      "Epoch  8, CIFAR-10 Batch 2:  Loss: 1.7569 Validation Accuracy: 0.3782\n",
      "Epoch  8, CIFAR-10 Batch 3:  Loss: 1.6118 Validation Accuracy: 0.3794\n",
      "Epoch  8, CIFAR-10 Batch 4:  Loss: 1.6016 Validation Accuracy: 0.4008\n",
      "Epoch  8, CIFAR-10 Batch 5:  Loss: 1.6401 Validation Accuracy: 0.4062\n",
      "Epoch  9, CIFAR-10 Batch 1:  Loss: 1.7065 Validation Accuracy: 0.4122\n",
      "Epoch  9, CIFAR-10 Batch 2:  Loss: 1.6817 Validation Accuracy: 0.4008\n",
      "Epoch  9, CIFAR-10 Batch 3:  Loss: 1.5562 Validation Accuracy: 0.3998\n",
      "Epoch  9, CIFAR-10 Batch 4:  Loss: 1.5590 Validation Accuracy: 0.4066\n",
      "Epoch  9, CIFAR-10 Batch 5:  Loss: 1.5803 Validation Accuracy: 0.4234\n",
      "Epoch 10, CIFAR-10 Batch 1:  Loss: 1.6642 Validation Accuracy: 0.4274\n",
      "Epoch 10, CIFAR-10 Batch 2:  Loss: 1.6783 Validation Accuracy: 0.3966\n",
      "Epoch 10, CIFAR-10 Batch 3:  Loss: 1.4905 Validation Accuracy: 0.4286\n",
      "Epoch 10, CIFAR-10 Batch 4:  Loss: 1.5074 Validation Accuracy: 0.4234\n",
      "Epoch 10, CIFAR-10 Batch 5:  Loss: 1.5444 Validation Accuracy: 0.4272\n",
      "Epoch 11, CIFAR-10 Batch 1:  Loss: 1.6319 Validation Accuracy: 0.4326\n",
      "Epoch 11, CIFAR-10 Batch 2:  Loss: 1.5703 Validation Accuracy: 0.4310\n",
      "Epoch 11, CIFAR-10 Batch 3:  Loss: 1.4291 Validation Accuracy: 0.4286\n",
      "Epoch 11, CIFAR-10 Batch 4:  Loss: 1.4390 Validation Accuracy: 0.4368\n",
      "Epoch 11, CIFAR-10 Batch 5:  Loss: 1.5294 Validation Accuracy: 0.4436\n",
      "Epoch 12, CIFAR-10 Batch 1:  Loss: 1.6019 Validation Accuracy: 0.4604\n",
      "Epoch 12, CIFAR-10 Batch 2:  Loss: 1.5272 Validation Accuracy: 0.4414\n",
      "Epoch 12, CIFAR-10 Batch 3:  Loss: 1.4403 Validation Accuracy: 0.4302\n",
      "Epoch 12, CIFAR-10 Batch 4:  Loss: 1.4091 Validation Accuracy: 0.4430\n",
      "Epoch 12, CIFAR-10 Batch 5:  Loss: 1.4807 Validation Accuracy: 0.4606\n",
      "Epoch 13, CIFAR-10 Batch 1:  Loss: 1.5494 Validation Accuracy: 0.4560\n",
      "Epoch 13, CIFAR-10 Batch 2:  Loss: 1.4985 Validation Accuracy: 0.4476\n",
      "Epoch 13, CIFAR-10 Batch 3:  Loss: 1.3528 Validation Accuracy: 0.4588\n",
      "Epoch 13, CIFAR-10 Batch 4:  Loss: 1.3673 Validation Accuracy: 0.4454\n",
      "Epoch 13, CIFAR-10 Batch 5:  Loss: 1.4411 Validation Accuracy: 0.4690\n",
      "Epoch 14, CIFAR-10 Batch 1:  Loss: 1.4884 Validation Accuracy: 0.4774\n",
      "Epoch 14, CIFAR-10 Batch 2:  Loss: 1.4513 Validation Accuracy: 0.4636\n",
      "Epoch 14, CIFAR-10 Batch 3:  Loss: 1.3381 Validation Accuracy: 0.4532\n",
      "Epoch 14, CIFAR-10 Batch 4:  Loss: 1.3378 Validation Accuracy: 0.4766\n",
      "Epoch 14, CIFAR-10 Batch 5:  Loss: 1.4004 Validation Accuracy: 0.4806\n",
      "Epoch 15, CIFAR-10 Batch 1:  Loss: 1.4691 Validation Accuracy: 0.4782\n",
      "Epoch 15, CIFAR-10 Batch 2:  Loss: 1.4221 Validation Accuracy: 0.4796\n",
      "Epoch 15, CIFAR-10 Batch 3:  Loss: 1.2942 Validation Accuracy: 0.4812\n",
      "Epoch 15, CIFAR-10 Batch 4:  Loss: 1.3015 Validation Accuracy: 0.4810\n",
      "Epoch 15, CIFAR-10 Batch 5:  Loss: 1.3434 Validation Accuracy: 0.5030\n",
      "Epoch 16, CIFAR-10 Batch 1:  Loss: 1.4251 Validation Accuracy: 0.5032\n",
      "Epoch 16, CIFAR-10 Batch 2:  Loss: 1.3703 Validation Accuracy: 0.4870\n",
      "Epoch 16, CIFAR-10 Batch 3:  Loss: 1.2800 Validation Accuracy: 0.4812\n",
      "Epoch 16, CIFAR-10 Batch 4:  Loss: 1.2950 Validation Accuracy: 0.4918\n",
      "Epoch 16, CIFAR-10 Batch 5:  Loss: 1.3405 Validation Accuracy: 0.4970\n",
      "Epoch 17, CIFAR-10 Batch 1:  Loss: 1.4173 Validation Accuracy: 0.5046\n",
      "Epoch 17, CIFAR-10 Batch 2:  Loss: 1.3545 Validation Accuracy: 0.5000\n",
      "Epoch 17, CIFAR-10 Batch 3:  Loss: 1.2142 Validation Accuracy: 0.5034\n",
      "Epoch 17, CIFAR-10 Batch 4:  Loss: 1.2387 Validation Accuracy: 0.5014\n",
      "Epoch 17, CIFAR-10 Batch 5:  Loss: 1.2994 Validation Accuracy: 0.5072\n",
      "Epoch 18, CIFAR-10 Batch 1:  Loss: 1.3868 Validation Accuracy: 0.5048\n",
      "Epoch 18, CIFAR-10 Batch 2:  Loss: 1.3512 Validation Accuracy: 0.5050\n",
      "Epoch 18, CIFAR-10 Batch 3:  Loss: 1.1932 Validation Accuracy: 0.5080\n",
      "Epoch 18, CIFAR-10 Batch 4:  Loss: 1.2191 Validation Accuracy: 0.5150\n",
      "Epoch 18, CIFAR-10 Batch 5:  Loss: 1.2653 Validation Accuracy: 0.5190\n",
      "Epoch 19, CIFAR-10 Batch 1:  Loss: 1.3612 Validation Accuracy: 0.5176\n",
      "Epoch 19, CIFAR-10 Batch 2:  Loss: 1.2830 Validation Accuracy: 0.5188\n",
      "Epoch 19, CIFAR-10 Batch 3:  Loss: 1.1746 Validation Accuracy: 0.5138\n",
      "Epoch 19, CIFAR-10 Batch 4:  Loss: 1.1996 Validation Accuracy: 0.5188\n",
      "Epoch 19, CIFAR-10 Batch 5:  Loss: 1.2456 Validation Accuracy: 0.5186\n",
      "Epoch 20, CIFAR-10 Batch 1:  Loss: 1.3133 Validation Accuracy: 0.5316\n",
      "Epoch 20, CIFAR-10 Batch 2:  Loss: 1.2806 Validation Accuracy: 0.5108\n",
      "Epoch 20, CIFAR-10 Batch 3:  Loss: 1.1737 Validation Accuracy: 0.5144\n",
      "Epoch 20, CIFAR-10 Batch 4:  Loss: 1.1606 Validation Accuracy: 0.5226\n",
      "Epoch 20, CIFAR-10 Batch 5:  Loss: 1.2299 Validation Accuracy: 0.5276\n",
      "Epoch 21, CIFAR-10 Batch 1:  Loss: 1.2809 Validation Accuracy: 0.5358\n",
      "Epoch 21, CIFAR-10 Batch 2:  Loss: 1.2219 Validation Accuracy: 0.5324\n",
      "Epoch 21, CIFAR-10 Batch 3:  Loss: 1.1461 Validation Accuracy: 0.5178\n",
      "Epoch 21, CIFAR-10 Batch 4:  Loss: 1.1438 Validation Accuracy: 0.5314\n",
      "Epoch 21, CIFAR-10 Batch 5:  Loss: 1.2017 Validation Accuracy: 0.5362\n",
      "Epoch 22, CIFAR-10 Batch 1:  Loss: 1.2634 Validation Accuracy: 0.5328\n",
      "Epoch 22, CIFAR-10 Batch 2:  Loss: 1.2113 Validation Accuracy: 0.5340\n",
      "Epoch 22, CIFAR-10 Batch 3:  Loss: 1.1294 Validation Accuracy: 0.5218\n",
      "Epoch 22, CIFAR-10 Batch 4:  Loss: 1.1312 Validation Accuracy: 0.5370\n",
      "Epoch 22, CIFAR-10 Batch 5:  Loss: 1.1540 Validation Accuracy: 0.5406\n",
      "Epoch 23, CIFAR-10 Batch 1:  Loss: 1.2220 Validation Accuracy: 0.5504\n",
      "Epoch 23, CIFAR-10 Batch 2:  Loss: 1.1888 Validation Accuracy: 0.5354\n",
      "Epoch 23, CIFAR-10 Batch 3:  Loss: 1.0923 Validation Accuracy: 0.5416\n",
      "Epoch 23, CIFAR-10 Batch 4:  Loss: 1.1132 Validation Accuracy: 0.5444\n",
      "Epoch 23, CIFAR-10 Batch 5:  Loss: 1.1481 Validation Accuracy: 0.5500\n",
      "Epoch 24, CIFAR-10 Batch 1:  Loss: 1.2068 Validation Accuracy: 0.5464\n",
      "Epoch 24, CIFAR-10 Batch 2:  Loss: 1.1368 Validation Accuracy: 0.5496\n",
      "Epoch 24, CIFAR-10 Batch 3:  Loss: 1.0917 Validation Accuracy: 0.5482\n",
      "Epoch 24, CIFAR-10 Batch 4:  Loss: 1.0864 Validation Accuracy: 0.5464\n",
      "Epoch 24, CIFAR-10 Batch 5:  Loss: 1.1029 Validation Accuracy: 0.5586\n",
      "Epoch 25, CIFAR-10 Batch 1:  Loss: 1.2119 Validation Accuracy: 0.5408\n",
      "Epoch 25, CIFAR-10 Batch 2:  Loss: 1.1455 Validation Accuracy: 0.5472\n",
      "Epoch 25, CIFAR-10 Batch 3:  Loss: 1.0690 Validation Accuracy: 0.5424\n",
      "Epoch 25, CIFAR-10 Batch 4:  Loss: 1.0635 Validation Accuracy: 0.5568\n",
      "Epoch 25, CIFAR-10 Batch 5:  Loss: 1.0798 Validation Accuracy: 0.5642\n",
      "Epoch 26, CIFAR-10 Batch 1:  Loss: 1.1657 Validation Accuracy: 0.5670\n",
      "Epoch 26, CIFAR-10 Batch 2:  Loss: 1.1385 Validation Accuracy: 0.5422\n",
      "Epoch 26, CIFAR-10 Batch 3:  Loss: 1.0280 Validation Accuracy: 0.5558\n",
      "Epoch 26, CIFAR-10 Batch 4:  Loss: 1.0389 Validation Accuracy: 0.5596\n",
      "Epoch 26, CIFAR-10 Batch 5:  Loss: 1.1086 Validation Accuracy: 0.5600\n",
      "Epoch 27, CIFAR-10 Batch 1:  Loss: 1.1461 Validation Accuracy: 0.5592\n",
      "Epoch 27, CIFAR-10 Batch 2:  Loss: 1.1272 Validation Accuracy: 0.5564\n",
      "Epoch 27, CIFAR-10 Batch 3:  Loss: 1.0214 Validation Accuracy: 0.5582\n",
      "Epoch 27, CIFAR-10 Batch 4:  Loss: 1.0352 Validation Accuracy: 0.5636\n",
      "Epoch 27, CIFAR-10 Batch 5:  Loss: 1.0618 Validation Accuracy: 0.5714\n",
      "Epoch 28, CIFAR-10 Batch 1:  Loss: 1.1257 Validation Accuracy: 0.5784\n",
      "Epoch 28, CIFAR-10 Batch 2:  Loss: 1.0724 Validation Accuracy: 0.5658\n",
      "Epoch 28, CIFAR-10 Batch 3:  Loss: 1.0312 Validation Accuracy: 0.5600\n",
      "Epoch 28, CIFAR-10 Batch 4:  Loss: 1.0330 Validation Accuracy: 0.5614\n",
      "Epoch 28, CIFAR-10 Batch 5:  Loss: 1.0239 Validation Accuracy: 0.5762\n",
      "Epoch 29, CIFAR-10 Batch 1:  Loss: 1.1047 Validation Accuracy: 0.5856\n",
      "Epoch 29, CIFAR-10 Batch 2:  Loss: 1.1002 Validation Accuracy: 0.5546\n",
      "Epoch 29, CIFAR-10 Batch 3:  Loss: 1.0248 Validation Accuracy: 0.5672\n",
      "Epoch 29, CIFAR-10 Batch 4:  Loss: 0.9990 Validation Accuracy: 0.5794\n",
      "Epoch 29, CIFAR-10 Batch 5:  Loss: 1.0193 Validation Accuracy: 0.5854\n",
      "Epoch 30, CIFAR-10 Batch 1:  Loss: 1.0975 Validation Accuracy: 0.5812\n",
      "Epoch 30, CIFAR-10 Batch 2:  Loss: 1.0246 Validation Accuracy: 0.5744\n",
      "Epoch 30, CIFAR-10 Batch 3:  Loss: 0.9832 Validation Accuracy: 0.5770\n",
      "Epoch 30, CIFAR-10 Batch 4:  Loss: 1.0112 Validation Accuracy: 0.5712\n",
      "Epoch 30, CIFAR-10 Batch 5:  Loss: 0.9955 Validation Accuracy: 0.5854\n",
      "Epoch 31, CIFAR-10 Batch 1:  Loss: 1.0583 Validation Accuracy: 0.5798\n",
      "Epoch 31, CIFAR-10 Batch 2:  Loss: 0.9925 Validation Accuracy: 0.5768\n",
      "Epoch 31, CIFAR-10 Batch 3:  Loss: 1.0131 Validation Accuracy: 0.5600\n",
      "Epoch 31, CIFAR-10 Batch 4:  Loss: 1.0001 Validation Accuracy: 0.5762\n",
      "Epoch 31, CIFAR-10 Batch 5:  Loss: 0.9520 Validation Accuracy: 0.5890\n",
      "Epoch 32, CIFAR-10 Batch 1:  Loss: 1.0590 Validation Accuracy: 0.5880\n",
      "Epoch 32, CIFAR-10 Batch 2:  Loss: 0.9750 Validation Accuracy: 0.5866\n",
      "Epoch 32, CIFAR-10 Batch 3:  Loss: 0.9671 Validation Accuracy: 0.5728\n",
      "Epoch 32, CIFAR-10 Batch 4:  Loss: 0.9770 Validation Accuracy: 0.5802\n",
      "Epoch 32, CIFAR-10 Batch 5:  Loss: 0.9632 Validation Accuracy: 0.5890\n",
      "Epoch 33, CIFAR-10 Batch 1:  Loss: 1.0297 Validation Accuracy: 0.5890\n",
      "Epoch 33, CIFAR-10 Batch 2:  Loss: 0.9783 Validation Accuracy: 0.5956\n",
      "Epoch 33, CIFAR-10 Batch 3:  Loss: 0.9384 Validation Accuracy: 0.5860\n",
      "Epoch 33, CIFAR-10 Batch 4:  Loss: 0.9518 Validation Accuracy: 0.5876\n",
      "Epoch 33, CIFAR-10 Batch 5:  Loss: 0.9201 Validation Accuracy: 0.5944\n",
      "Epoch 34, CIFAR-10 Batch 1:  Loss: 1.0191 Validation Accuracy: 0.5974\n",
      "Epoch 34, CIFAR-10 Batch 2:  Loss: 0.9552 Validation Accuracy: 0.5894\n",
      "Epoch 34, CIFAR-10 Batch 3:  Loss: 0.9104 Validation Accuracy: 0.5852\n",
      "Epoch 34, CIFAR-10 Batch 4:  Loss: 0.9350 Validation Accuracy: 0.5956\n",
      "Epoch 34, CIFAR-10 Batch 5:  Loss: 0.9539 Validation Accuracy: 0.5842\n",
      "Epoch 35, CIFAR-10 Batch 1:  Loss: 1.0055 Validation Accuracy: 0.6020\n",
      "Epoch 35, CIFAR-10 Batch 2:  Loss: 0.9447 Validation Accuracy: 0.5966\n",
      "Epoch 35, CIFAR-10 Batch 3:  Loss: 0.8672 Validation Accuracy: 0.5996\n",
      "Epoch 35, CIFAR-10 Batch 4:  Loss: 0.9014 Validation Accuracy: 0.5994\n",
      "Epoch 35, CIFAR-10 Batch 5:  Loss: 0.9054 Validation Accuracy: 0.5980\n",
      "Epoch 36, CIFAR-10 Batch 1:  Loss: 0.9783 Validation Accuracy: 0.5976\n",
      "Epoch 36, CIFAR-10 Batch 2:  Loss: 0.9629 Validation Accuracy: 0.5848\n",
      "Epoch 36, CIFAR-10 Batch 3:  Loss: 0.8870 Validation Accuracy: 0.5988\n",
      "Epoch 36, CIFAR-10 Batch 4:  Loss: 0.9011 Validation Accuracy: 0.5996\n",
      "Epoch 36, CIFAR-10 Batch 5:  Loss: 0.8964 Validation Accuracy: 0.6000\n",
      "Epoch 37, CIFAR-10 Batch 1:  Loss: 0.9682 Validation Accuracy: 0.6110\n",
      "Epoch 37, CIFAR-10 Batch 2:  Loss: 0.8949 Validation Accuracy: 0.5984\n",
      "Epoch 37, CIFAR-10 Batch 3:  Loss: 0.8452 Validation Accuracy: 0.6038\n",
      "Epoch 37, CIFAR-10 Batch 4:  Loss: 0.8601 Validation Accuracy: 0.6132\n",
      "Epoch 37, CIFAR-10 Batch 5:  Loss: 0.8605 Validation Accuracy: 0.6036\n",
      "Epoch 38, CIFAR-10 Batch 1:  Loss: 0.9683 Validation Accuracy: 0.6040\n",
      "Epoch 38, CIFAR-10 Batch 2:  Loss: 0.8798 Validation Accuracy: 0.6114\n",
      "Epoch 38, CIFAR-10 Batch 3:  Loss: 0.8590 Validation Accuracy: 0.6066\n",
      "Epoch 38, CIFAR-10 Batch 4:  Loss: 0.8732 Validation Accuracy: 0.6080\n",
      "Epoch 38, CIFAR-10 Batch 5:  Loss: 0.8560 Validation Accuracy: 0.6120\n",
      "Epoch 39, CIFAR-10 Batch 1:  Loss: 0.9341 Validation Accuracy: 0.6120\n",
      "Epoch 39, CIFAR-10 Batch 2:  Loss: 0.8652 Validation Accuracy: 0.6078\n",
      "Epoch 39, CIFAR-10 Batch 3:  Loss: 0.8144 Validation Accuracy: 0.6116\n",
      "Epoch 39, CIFAR-10 Batch 4:  Loss: 0.8460 Validation Accuracy: 0.6106\n",
      "Epoch 39, CIFAR-10 Batch 5:  Loss: 0.8555 Validation Accuracy: 0.6112\n",
      "Epoch 40, CIFAR-10 Batch 1:  Loss: 0.9255 Validation Accuracy: 0.6188\n",
      "Epoch 40, CIFAR-10 Batch 2:  Loss: 0.8374 Validation Accuracy: 0.6104\n",
      "Epoch 40, CIFAR-10 Batch 3:  Loss: 0.8219 Validation Accuracy: 0.6076\n",
      "Epoch 40, CIFAR-10 Batch 4:  Loss: 0.8009 Validation Accuracy: 0.6252\n",
      "Epoch 40, CIFAR-10 Batch 5:  Loss: 0.8277 Validation Accuracy: 0.6164\n",
      "Epoch 41, CIFAR-10 Batch 1:  Loss: 0.9191 Validation Accuracy: 0.6216\n",
      "Epoch 41, CIFAR-10 Batch 2:  Loss: 0.8441 Validation Accuracy: 0.6278\n",
      "Epoch 41, CIFAR-10 Batch 3:  Loss: 0.8027 Validation Accuracy: 0.6150\n",
      "Epoch 41, CIFAR-10 Batch 4:  Loss: 0.8025 Validation Accuracy: 0.6312\n",
      "Epoch 41, CIFAR-10 Batch 5:  Loss: 0.8043 Validation Accuracy: 0.6248\n",
      "Epoch 42, CIFAR-10 Batch 1:  Loss: 0.8954 Validation Accuracy: 0.6184\n",
      "Epoch 42, CIFAR-10 Batch 2:  Loss: 0.8291 Validation Accuracy: 0.6168\n",
      "Epoch 42, CIFAR-10 Batch 3:  Loss: 0.7651 Validation Accuracy: 0.6204\n",
      "Epoch 42, CIFAR-10 Batch 4:  Loss: 0.7970 Validation Accuracy: 0.6220\n",
      "Epoch 42, CIFAR-10 Batch 5:  Loss: 0.8002 Validation Accuracy: 0.6222\n",
      "Epoch 43, CIFAR-10 Batch 1:  Loss: 0.8737 Validation Accuracy: 0.6182\n",
      "Epoch 43, CIFAR-10 Batch 2:  Loss: 0.8047 Validation Accuracy: 0.6196\n",
      "Epoch 43, CIFAR-10 Batch 3:  Loss: 0.7540 Validation Accuracy: 0.6242\n",
      "Epoch 43, CIFAR-10 Batch 4:  Loss: 0.7990 Validation Accuracy: 0.6136\n",
      "Epoch 43, CIFAR-10 Batch 5:  Loss: 0.7970 Validation Accuracy: 0.6186\n",
      "Epoch 44, CIFAR-10 Batch 1:  Loss: 0.8330 Validation Accuracy: 0.6270\n",
      "Epoch 44, CIFAR-10 Batch 2:  Loss: 0.7779 Validation Accuracy: 0.6274\n",
      "Epoch 44, CIFAR-10 Batch 3:  Loss: 0.7469 Validation Accuracy: 0.6252\n",
      "Epoch 44, CIFAR-10 Batch 4:  Loss: 0.7536 Validation Accuracy: 0.6328\n",
      "Epoch 44, CIFAR-10 Batch 5:  Loss: 0.7590 Validation Accuracy: 0.6344\n",
      "Epoch 45, CIFAR-10 Batch 1:  Loss: 0.8333 Validation Accuracy: 0.6264\n",
      "Epoch 45, CIFAR-10 Batch 2:  Loss: 0.8028 Validation Accuracy: 0.6252\n",
      "Epoch 45, CIFAR-10 Batch 3:  Loss: 0.7492 Validation Accuracy: 0.6250\n",
      "Epoch 45, CIFAR-10 Batch 4:  Loss: 0.7350 Validation Accuracy: 0.6258\n",
      "Epoch 45, CIFAR-10 Batch 5:  Loss: 0.7514 Validation Accuracy: 0.6356\n",
      "Epoch 46, CIFAR-10 Batch 1:  Loss: 0.8391 Validation Accuracy: 0.6290\n",
      "Epoch 46, CIFAR-10 Batch 2:  Loss: 0.7755 Validation Accuracy: 0.6268\n",
      "Epoch 46, CIFAR-10 Batch 3:  Loss: 0.7072 Validation Accuracy: 0.6274\n",
      "Epoch 46, CIFAR-10 Batch 4:  Loss: 0.7225 Validation Accuracy: 0.6350\n",
      "Epoch 46, CIFAR-10 Batch 5:  Loss: 0.7310 Validation Accuracy: 0.6340\n",
      "Epoch 47, CIFAR-10 Batch 1:  Loss: 0.7911 Validation Accuracy: 0.6326\n",
      "Epoch 47, CIFAR-10 Batch 2:  Loss: 0.7715 Validation Accuracy: 0.6364\n",
      "Epoch 47, CIFAR-10 Batch 3:  Loss: 0.7120 Validation Accuracy: 0.6316\n",
      "Epoch 47, CIFAR-10 Batch 4:  Loss: 0.7193 Validation Accuracy: 0.6290\n",
      "Epoch 47, CIFAR-10 Batch 5:  Loss: 0.7304 Validation Accuracy: 0.6330\n",
      "Epoch 48, CIFAR-10 Batch 1:  Loss: 0.7761 Validation Accuracy: 0.6372\n",
      "Epoch 48, CIFAR-10 Batch 2:  Loss: 0.7549 Validation Accuracy: 0.6340\n",
      "Epoch 48, CIFAR-10 Batch 3:  Loss: 0.6876 Validation Accuracy: 0.6362\n",
      "Epoch 48, CIFAR-10 Batch 4:  Loss: 0.6916 Validation Accuracy: 0.6364\n",
      "Epoch 48, CIFAR-10 Batch 5:  Loss: 0.6829 Validation Accuracy: 0.6352\n",
      "Epoch 49, CIFAR-10 Batch 1:  Loss: 0.7656 Validation Accuracy: 0.6406\n",
      "Epoch 49, CIFAR-10 Batch 2:  Loss: 0.7320 Validation Accuracy: 0.6444\n",
      "Epoch 49, CIFAR-10 Batch 3:  Loss: 0.6863 Validation Accuracy: 0.6348\n",
      "Epoch 49, CIFAR-10 Batch 4:  Loss: 0.6993 Validation Accuracy: 0.6366\n",
      "Epoch 49, CIFAR-10 Batch 5:  Loss: 0.6550 Validation Accuracy: 0.6382\n",
      "Epoch 50, CIFAR-10 Batch 1:  Loss: 0.7545 Validation Accuracy: 0.6370\n",
      "Epoch 50, CIFAR-10 Batch 2:  Loss: 0.7183 Validation Accuracy: 0.6430\n",
      "Epoch 50, CIFAR-10 Batch 3:  Loss: 0.6483 Validation Accuracy: 0.6310\n",
      "Epoch 50, CIFAR-10 Batch 4:  Loss: 0.6652 Validation Accuracy: 0.6354\n",
      "Epoch 50, CIFAR-10 Batch 5:  Loss: 0.6738 Validation Accuracy: 0.6422\n"
     ]
    }
   ],
   "source": [
    "\"\"\"\n",
    "DON'T MODIFY ANYTHING IN THIS CELL\n",
    "\"\"\"\n",
    "save_model_path = './image_classification'\n",
    "\n",
    "print('Training...')\n",
    "with tf.Session() as sess:\n",
    "    # Initializing the variables\n",
    "    sess.run(tf.global_variables_initializer())\n",
    "    \n",
    "    # Training cycle\n",
    "    for epoch in range(epochs):\n",
    "        # Loop over all batches\n",
    "        n_batches = 5\n",
    "        for batch_i in range(1, n_batches + 1):\n",
    "            for batch_features, batch_labels in helper.load_preprocess_training_batch(batch_i, batch_size):\n",
    "                train_neural_network(sess, optimizer, keep_probability, batch_features, batch_labels)\n",
    "            print('Epoch {:>2}, CIFAR-10 Batch {}:  '.format(epoch + 1, batch_i), end='')\n",
    "            print_stats(sess, batch_features, batch_labels, cost, accuracy)\n",
    "            \n",
    "    # Save Model\n",
    "    saver = tf.train.Saver()\n",
    "    save_path = saver.save(sess, save_model_path)"
   ]
  },
  {
   "cell_type": "markdown",
   "metadata": {},
   "source": [
    "# 检查点\n",
    "\n",
    "模型已保存到本地。\n",
    "\n",
    "## 测试模型\n",
    "\n",
    "利用测试数据集测试你的模型。这将是最终的准确率。你的准确率应该高于 50%。如果没达到，请继续调整模型结构和参数。"
   ]
  },
  {
   "cell_type": "code",
   "execution_count": 27,
   "metadata": {
    "collapsed": false
   },
   "outputs": [
    {
     "name": "stdout",
     "output_type": "stream",
     "text": [
      "Testing Accuracy: 0.6370404422283172\n",
      "\n"
     ]
    },
    {
     "data": {
      "image/png": "[encoded data removed]",
      "text/plain": [
       "<matplotlib.figure.Figure at 0x1ff4e6e4a20>"
      ]
     },
     "metadata": {
      "image/png": {
       "height": 319,
       "width": 355
      }
     },
     "output_type": "display_data"
    }
   ],
   "source": [
    "\"\"\"\n",
    "DON'T MODIFY ANYTHING IN THIS CELL\n",
    "\"\"\"\n",
    "%matplotlib inline\n",
    "%config InlineBackend.figure_format = 'retina'\n",
    "\n",
    "import tensorflow as tf\n",
    "import pickle\n",
    "import helper\n",
    "import random\n",
    "\n",
    "# Set batch size if not already set\n",
    "try:\n",
    "    if batch_size:\n",
    "        pass\n",
    "except NameError:\n",
    "    batch_size = 64\n",
    "\n",
    "save_model_path = './image_classification'\n",
    "n_samples = 4\n",
    "top_n_predictions = 3\n",
    "\n",
    "def test_model():\n",
    "    \"\"\"\n",
    "    Test the saved model against the test dataset\n",
    "    \"\"\"\n",
    "\n",
    "    test_features, test_labels = pickle.load(open('preprocess_test.p', mode='rb'))\n",
    "    loaded_graph = tf.Graph()\n",
    "\n",
    "    with tf.Session(graph=loaded_graph) as sess:\n",
    "        # Load model\n",
    "        loader = tf.train.import_meta_graph(save_model_path + '.meta')\n",
    "        loader.restore(sess, save_model_path)\n",
    "\n",
    "        # Get Tensors from loaded model\n",
    "        loaded_x = loaded_graph.get_tensor_by_name('x:0')\n",
    "        loaded_y = loaded_graph.get_tensor_by_name('y:0')\n",
    "        loaded_keep_prob = loaded_graph.get_tensor_by_name('keep_prob:0')\n",
    "        loaded_logits = loaded_graph.get_tensor_by_name('logits:0')\n",
    "        loaded_acc = loaded_graph.get_tensor_by_name('accuracy:0')\n",
    "        \n",
    "        # Get accuracy in batches for memory limitations\n",
    "        test_batch_acc_total = 0\n",
    "        test_batch_count = 0\n",
    "        \n",
    "        for test_feature_batch, test_label_batch in helper.batch_features_labels(test_features, test_labels, batch_size):\n",
    "            test_batch_acc_total += sess.run(\n",
    "                loaded_acc,\n",
    "                feed_dict={loaded_x: test_feature_batch, loaded_y: test_label_batch, loaded_keep_prob: 1.0})\n",
    "            test_batch_count += 1\n",
    "\n",
    "        print('Testing Accuracy: {}\\n'.format(test_batch_acc_total/test_batch_count))\n",
    "\n",
    "        # Print Random Samples\n",
    "        random_test_features, random_test_labels = tuple(zip(*random.sample(list(zip(test_features, test_labels)), n_samples)))\n",
    "        random_test_predictions = sess.run(\n",
    "            tf.nn.top_k(tf.nn.softmax(loaded_logits), top_n_predictions),\n",
    "            feed_dict={loaded_x: random_test_features, loaded_y: random_test_labels, loaded_keep_prob: 1.0})\n",
    "        helper.display_image_predictions(random_test_features, random_test_labels, random_test_predictions)\n",
    "\n",
    "\n",
    "test_model()"
   ]
  },
  {
   "cell_type": "markdown",
   "metadata": {},
   "source": [
    "## 为何准确率只有50-80%？\n",
    "\n",
    "你可能想问，为何准确率不能更高了？首先，对于简单的 CNN 网络来说，50% 已经不低了。纯粹猜测的准确率为10%。但是，你可能注意到有人的准确率[远远超过 80%](http://rodrigob.github.io/are_we_there_yet/build/classification_datasets_results.html#43494641522d3130)。这是因为我们还没有介绍所有的神经网络知识。我们还需要掌握一些其他技巧。\n",
    "\n",
    "## 提交项目\n",
    "\n",
    "提交项目时，确保先运行所有单元，然后再保存记事本。将 notebook 文件另存为“dlnd_image_classification.ipynb”，再在目录 \"File\" -> \"Download as\" 另存为 HTML 格式。请在提交的项目中包含 “helper.py” 和 “problem_unittests.py” 文件。\n"
   ]
  }
 ],
 "metadata": {
  "kernelspec": {
   "display_name": "Python 3",
   "language": "python",
   "name": "python3"
  },
  "language_info": {
   "codemirror_mode": {
    "name": "ipython",
    "version": 3
   },
   "file_extension": ".py",
   "mimetype": "text/x-python",
   "name": "python",
   "nbconvert_exporter": "python",
   "pygments_lexer": "ipython3",
   "version": "3.5.2"
  }
 },
 "nbformat": 4,
 "nbformat_minor": 1
}
